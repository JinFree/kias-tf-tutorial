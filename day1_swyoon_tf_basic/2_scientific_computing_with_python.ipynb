{
 "cells": [
  {
   "cell_type": "markdown",
   "metadata": {},
   "source": [
    "# Scientific Computing with Python\n",
    "**KIAS TensorFlow Tutorial**  \n",
    "**Dec 19, 2016. Sangwoong Yoon, [IDNSTORY INC.](http://haezoom.com/)**  \n",
    "\n",
    "** Table of Contents **  \n",
    "1. SciPy Stack - Packages for Scientific Computing in Python\n",
    "2. Introduction to NumPy  \n",
    "    2.1. Basics of NumPy  \n",
    "    2.2. Simple Operations in NumPy Arrays  \n",
    "    2.3. Linear Algebra on NumPy Arrays  "
   ]
  },
  {
   "cell_type": "markdown",
   "metadata": {},
   "source": [
    "## 1. [SciPy Stack](http://www.scipy.org/) - Packages for Scientific Computing in Python  \n",
    "![SciPy Logo](https://docs.scipy.org/doc/scipy-0.10.1/reference/_static/scipyshiny_small.png)\n",
    "\n",
    "* **SciPy Stack** is an arsenal of libraries for scientific computing in Python\n",
    "    * [NumPy](http://www.numpy.org/)\n",
    "        * For manipulating **N-Dim Arrays** (i.e., matrices and tensors)\n",
    "    * [Scipy](https://docs.scipy.org/doc/scipy/reference/)\n",
    "        * For using more sophisticated mathematical/statistical functions\n",
    "    * [Matplotlib](http://matplotlib.org/)\n",
    "        * For visualization\n",
    "    * [IPython](https://ipython.org/)\n",
    "        * For providing the Python kernel for Jupyter\n",
    "    * [SymPy](http://www.sympy.org/en/index.html)\n",
    "        * For symbolic computation, as Mathematica does\n",
    "    * [Pandas](http://pandas.pydata.org/)\n",
    "        * For manipulate tables, as SQL does\n",
    "    * ...and even more!\n",
    "    \n",
    "![Numpy Logo](https://bids.berkeley.edu/sites/default/files/styles/400x225/public/projects/numpy_project_page.jpg?itok=flrdydei)\n",
    "![Scipy Logo](http://www.scipy.org/_static/logo.gif)\n",
    "![IPython Logo](https://ipython.org/_static/IPy_header.png)\n",
    "![Sympy Logo](http://www.sympy.org/static/images/logo.png)\n",
    "![Pandas Logo](http://pandas.pydata.org/_static/pandas_logo.png)\n",
    "\n",
    "* I personally use almost all of the listed above\n",
    "    * Except for Sympy - I use **TensorFlow** instead\n",
    "* All of them are **FREE** and **OPENSOURCE**\n",
    "    * They are basically aiming to \"copy\" existing tools such as MATLAB and SQL.\n",
    "    * You can easily transfer to the Python world!\n",
    "* I strongly encourage you to explore SciPy stack by yourself - I'm sure you'll be surprised\n"
   ]
  },
  {
   "cell_type": "markdown",
   "metadata": {},
   "source": [
    "## 2. Introduction to Numpy\n",
    "* NumPy, a library for supporting **N-Dim Arrays**, is a basis for all **SciPy Stack** libraries.\n",
    "* For installation, you may consult [the official installation page](http://www.scipy.org/install.html)"
   ]
  },
  {
   "cell_type": "markdown",
   "metadata": {},
   "source": [
    "### 2.1. Basics of NumPy\n",
    "* Almost everything is the same as MATLAB\n",
    "    * but you have to type slightly longer"
   ]
  },
  {
   "cell_type": "code",
   "execution_count": null,
   "metadata": {
    "collapsed": true
   },
   "outputs": [],
   "source": [
    "print '''Import numpy'''\n",
    "import numpy as np"
   ]
  },
  {
   "cell_type": "code",
   "execution_count": 2,
   "metadata": {
    "collapsed": false
   },
   "outputs": [
    {
     "name": "stdout",
     "output_type": "stream",
     "text": [
      " Standard way of initializing a numpy ndarray\n",
      "[[1 2]\n",
      " [3 4]]\n"
     ]
    }
   ],
   "source": [
    "print ''' Standard way of initializing a numpy ndarray'''\n",
    "A = np.array([[1, 2],\n",
    "              [3, 4]])\n",
    "print A"
   ]
  },
  {
   "cell_type": "code",
   "execution_count": 6,
   "metadata": {
    "collapsed": false
   },
   "outputs": [
    {
     "name": "stdout",
     "output_type": "stream",
     "text": [
      " Slicing a numpy arrary\n",
      "[1 2]\n",
      "1\n",
      "1\n",
      "[2 4]\n",
      "[2 4]\n",
      "\n",
      "(2, 2)\n",
      "[[1 3]\n",
      " [2 4]]\n"
     ]
    }
   ],
   "source": [
    "print ''' Slicing a numpy arrary'''\n",
    "print A[0]\n",
    "print A[0,0]\n",
    "print A[0][0]\n",
    "print A[:,1]\n",
    "print A[0:2,1]\n",
    "print \n",
    "print A.shape  ## get dimension information\n",
    "print A.T  ## transpose"
   ]
  },
  {
   "cell_type": "code",
   "execution_count": 3,
   "metadata": {
    "collapsed": false
   },
   "outputs": [
    {
     "name": "stdout",
     "output_type": "stream",
     "text": [
      " Generating a special array\n",
      "[[ 0.  0.  0.]\n",
      " [ 0.  0.  0.]]\n",
      "[[ 1.  1.]]\n"
     ]
    }
   ],
   "source": [
    "print ''' Generating a special array'''\n",
    "B = np.zeros((2,3))  # array of zeros\n",
    "C = np.ones((1,2))  # array of ones\n",
    "print B\n",
    "print C"
   ]
  },
  {
   "cell_type": "markdown",
   "metadata": {},
   "source": [
    "** CAUTION **\n",
    "* Unlike in MATLAB, in Numpy, a vector can be represented as either 1-D array or 2-D array\n",
    "* i.e.,\n",
    "```python\n",
    "[[1,2]] != [1,2]\n",
    "[[1,2]] != [[1],\n",
    "              [2]]\n",
    "            ```"
   ]
  },
  {
   "cell_type": "code",
   "execution_count": 8,
   "metadata": {
    "collapsed": false
   },
   "outputs": [
    {
     "name": "stdout",
     "output_type": "stream",
     "text": [
      " Dimension of an array \n",
      "\n",
      "D\n",
      "[[1 2]]\n",
      "(1, 2)\n",
      "\n",
      "E\n",
      "[1 2]\n",
      "(2,)\n",
      "\n",
      "the first element\n",
      "[1 2]\n",
      "1\n",
      "\n",
      "transpose\n",
      "[[1]\n",
      " [2]]\n",
      "[1 2]\n"
     ]
    }
   ],
   "source": [
    "print ''' Dimension of an array '''\n",
    "D = np.array([[1,2]])\n",
    "E = np.array([1,2])\n",
    "print \n",
    "print 'D'\n",
    "print D\n",
    "print D.shape\n",
    "print \n",
    "print 'E'\n",
    "print E\n",
    "print E.shape\n",
    "print \n",
    "print 'the first element'\n",
    "print D[0]\n",
    "print E[0]\n",
    "print \n",
    "print 'transpose'\n",
    "print D.T\n",
    "print E.T"
   ]
  },
  {
   "cell_type": "markdown",
   "metadata": {},
   "source": [
    "### 2.2. Simple Operations on NumPy Arrays"
   ]
  },
  {
   "cell_type": "code",
   "execution_count": 10,
   "metadata": {
    "collapsed": false
   },
   "outputs": [
    {
     "name": "stdout",
     "output_type": "stream",
     "text": [
      "[[1 2]\n",
      " [3 4]]\n",
      "[[2 3]\n",
      " [4 5]]\n",
      "[[2 4]\n",
      " [6 8]]\n",
      "[[ 0.33333333  0.66666667]\n",
      " [ 1.          1.33333333]]\n",
      "\n",
      "[[0 1]\n",
      " [0 0]]\n",
      "[[ -1  -2]\n",
      " [ -9 -16]]\n",
      "\n",
      "[[ -7  -9]\n",
      " [-15 -19]]\n",
      "[[ -7  -9]\n",
      " [-15 -19]]\n",
      "[[ -4  -6]\n",
      " [-15 -22]]\n",
      "\n",
      "[[0 1]\n",
      " [0 1]]\n"
     ]
    }
   ],
   "source": [
    "''' Arithmatic with arrays'''\n",
    "A = np.array([[1, 2],\n",
    "              [3, 4]])\n",
    "print A\n",
    "print A + 1\n",
    "print A * 2\n",
    "print A / 3. # you need the dot - the floating point issue of Python 2\n",
    "print \n",
    "B = np.array([[-1,-1],[-3, -4]])\n",
    "print A + B\n",
    "print A * B\n",
    "print\n",
    "# dot product\n",
    "print A.dot(B)\n",
    "print np.dot(A,B)\n",
    "print B.dot(A)\n",
    "print \n",
    "# broad casting\n",
    "C = np.array([[-1],[-3]])\n",
    "print A + C"
   ]
  },
  {
   "cell_type": "markdown",
   "metadata": {},
   "source": [
    "### 2.3. Linear Algebra on NumPy Arrays\n",
    "* Matrix Inverse $A^{-1}$\n",
    "* Determinant $|A|$\n",
    "* Cholesky Decomposition $A = L {L}^T $ ($A$: Positive semidefinite, $L$: Lower triangular)"
   ]
  },
  {
   "cell_type": "code",
   "execution_count": 11,
   "metadata": {
    "collapsed": false
   },
   "outputs": [
    {
     "name": "stdout",
     "output_type": "stream",
     "text": [
      "[[-2.   1. ]\n",
      " [ 1.5 -0.5]]\n",
      "-2.0\n",
      "[[ 2.23606798  0.        ]\n",
      " [ 4.91934955  0.89442719]]\n"
     ]
    }
   ],
   "source": [
    "A = np.array([[1, 2],\n",
    "              [3, 4]])\n",
    "print np.linalg.inv(A)  # inverse\n",
    "print np.linalg.det(A)  # determinant\n",
    "\n",
    "B = np.dot(A, A.T)\n",
    "print np.linalg.cholesky(B)  # cholesky decomposition"
   ]
  },
  {
   "cell_type": "markdown",
   "metadata": {},
   "source": [
    "### Exercise : Gaussian Probability Density Function\n",
    "* Implement a line of code that evaluates the Gaussian PDF for a given $\\mathbf{x} = (x_1,x_2,...,x_D)^{\\intercal}$\n",
    "* Use the functions below:\n",
    "    * `np.dot(A, B)` : matrix multiplication\n",
    "    * `np.exp(A)` : elem-wise exponential\n",
    "    * `np.linalg.inv(A)` : matrix inverse\n",
    "    * `np.linalg.det(A)` : matrix determinant\n",
    "    * `np.sqrt(A)` : elem-wise square root\n",
    "    * `A ** 2` : elem-wise square\n",
    "    * `np.pi` : $\\pi$\n",
    "    \n",
    "# $p(\\mathbf{x}) = \\frac{1}{(2\\pi)^{D/2} |\\Sigma|^{\\frac{1}{2}}} \\exp\\left[{-\\frac{1}{2}(\\mathbf{x}-\\boldsymbol\\mu)^{\\intercal}\\Sigma^{-1}(\\mathbf{x}-\\boldsymbol\\mu)}\\right]$"
   ]
  },
  {
   "cell_type": "code",
   "execution_count": 13,
   "metadata": {
    "collapsed": false
   },
   "outputs": [],
   "source": [
    "'''The givens'''\n",
    "x = np.array([0, 0, 1])\n",
    "mu = np.array([0, 0, 0])\n",
    "Sig = np.array([[1, 0, 0],\n",
    "                [0, 1.5, 0],\n",
    "                [0, 0, 1]])\n",
    "D = x.shape[0]"
   ]
  },
  {
   "cell_type": "code",
   "execution_count": null,
   "metadata": {
    "collapsed": true
   },
   "outputs": [],
   "source": [
    "'''implement a code for evaluate p(x)'''\n",
    "p = <<< Implement Here! >>>"
   ]
  },
  {
   "cell_type": "markdown",
   "metadata": {},
   "source": [
    "The answer is : `0.0314439`"
   ]
  },
  {
   "cell_type": "markdown",
   "metadata": {},
   "source": [
    "## BONUS: Interactive Visualization Example - Gradient Descent"
   ]
  },
  {
   "cell_type": "code",
   "execution_count": 20,
   "metadata": {
    "collapsed": true
   },
   "outputs": [],
   "source": [
    "from ipywidgets import interact"
   ]
  },
  {
   "cell_type": "code",
   "execution_count": 17,
   "metadata": {
    "collapsed": true
   },
   "outputs": [],
   "source": [
    "'''test functions'''\n",
    "fn_1 = lambda x: 0.2 * x**2\n",
    "d_fn_1 = lambda x: 0.4*x\n",
    "fn_2 = lambda x: 0.2 * x**2 + 0.2*np.sin(x*3*np.pi)\n",
    "d_fn_2 = lambda x: 0.4*x + 0.2*3*np.pi*np.cos(x*3*np.pi)"
   ]
  },
  {
   "cell_type": "code",
   "execution_count": 21,
   "metadata": {
    "collapsed": true
   },
   "outputs": [],
   "source": [
    "def gradient_descent(x_0, f, df, step, max_iter):\n",
    "    x_range = np.linspace(-2, 2, 50)\n",
    "    y = f(x_range)\n",
    "    true_min = np.min(y)\n",
    "    l_x = [x_0]\n",
    "    l_f = [f(x_0)]\n",
    "    x_prev = x_0\n",
    "    for i in xrange(max_iter):\n",
    "        x_next = x_prev - step * df(x_prev)\n",
    "        l_x.append(x_next)\n",
    "        l_f.append(f(x_next))\n",
    "        x_prev = x_next\n",
    "        \n",
    "    @interact(t=(1,max_iter+1))\n",
    "    def d(t=1):\n",
    "        plt.plot(x_range, y, label='$f(x)$')\n",
    "        plt.plot(l_x[:t], l_f[:t], 'ro-', label='GD', markersize=12)\n",
    "        plt.legend(loc='best')\n",
    "        plt.xlabel('$x$')\n",
    "        plt.ylabel('$f(x)$')\n",
    "    \n",
    "    return np.array(l_f) - true_min"
   ]
  },
  {
   "cell_type": "code",
   "execution_count": 22,
   "metadata": {
    "collapsed": false
   },
   "outputs": [
    {
     "data": {
      "image/png": "[encoded data removed]",
      "text/plain": [
       "<matplotlib.figure.Figure at 0x7f6fe5f88090>"
      ]
     },
     "metadata": {},
     "output_type": "display_data"
    }
   ],
   "source": [
    "l_hist = gradient_descent(x_0=1.5, f=fn_1, df=d_fn_1, step=0.5, max_iter=10)\n",
    "plt.figure()\n",
    "plt.plot(l_hist)\n",
    "plt.xlabel('iterations')\n",
    "plt.ylabel('$f(x)$')\n",
    "plt.ylim([0,1])"
   ]
  },
  {
   "cell_type": "markdown",
   "metadata": {},
   "source": [
    "Set **`f`, `df`** keyword arguments to **`fn_2` and `d_fn_2`** and see how things change!"
   ]
  }
 ],
 "metadata": {
  "kernelspec": {
   "display_name": "Python 2",
   "language": "python",
   "name": "python2"
  },
  "language_info": {
   "codemirror_mode": {
    "name": "ipython",
    "version": 2
   },
   "file_extension": ".py",
   "mimetype": "text/x-python",
   "name": "python",
   "nbconvert_exporter": "python",
   "pygments_lexer": "ipython2",
   "version": "2.7.6"
  },
  "widgets": {
   "state": {
    "bac57d0a56184f85b553d6f4618d8a55": {
     "views": [
      {
       "cell_index": 21
      }
     ]
    }
   },
   "version": "1.2.0"
  }
 },
 "nbformat": 4,
 "nbformat_minor": 2
}
