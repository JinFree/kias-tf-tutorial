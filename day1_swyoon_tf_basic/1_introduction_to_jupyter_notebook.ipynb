{
 "cells": [
  {
   "cell_type": "markdown",
   "metadata": {},
   "source": [
    "# Introduction to Jupyter Notebook\n",
    "**KIAS TensorFlow Tutorial**  \n",
    "**Dec 19, 2016. Sangwoong Yoon, [IDNSTORY INC.](http://haezoom.com/)**  \n",
    "\n",
    "** Table of Contents **  \n",
    "1. Basic Features of Jupyter Notebook  \n",
    "    1.1. Command Mode and Edit Mode  \n",
    "    1.2. Code Cells and Markdown Cells  \n",
    "    1.3. Manipulating Cells\n",
    "2. Amazing Features of Jupyter Notebook  \n",
    "    2.1. On-spot documentation  \n",
    "    2.2. Magic commands  \n",
    "3. Interactive Visualization  \n",
    "    3.1. ipywidgets\n",
    "4. Lifecycle of Jupyter Notebook  "
   ]
  },
  {
   "cell_type": "markdown",
   "metadata": {
    "collapsed": true
   },
   "source": [
    "# 1. Basic Features of Jupyter Notebook "
   ]
  },
  {
   "cell_type": "markdown",
   "metadata": {
    "collapsed": true
   },
   "source": [
    "## 1.1. Command Mode and Edit Mode\n",
    "\n",
    "* There are TWO modes in Jupyter Notebook: **COMMAND** mode, and **EDIT** mode.\n",
    "    * Just like VIM\n",
    "* If you don't see a blinking cursor, or any cell is selected blue: your are in **COMMAND** mode.\n",
    "    * Navigate through cells\n",
    "        * Arrow keys ↓↑, or **j**, **k** as in VIM\n",
    "    * Add cells\n",
    "        * **b** to add **b**elow, **a** to add **a**bove.\n",
    "    * Delete cells\n",
    "        * **dd** to delete\n",
    "    * Cut/Copy and Paste\n",
    "        * **c** to copy\n",
    "        * **x** to cut\n",
    "        * **v** to paste below\n",
    "        * or you can use ↓↑ buttons in the toolbar\n",
    "* If you see a binking cursor, or any cell is selected green: you are in **EDIT** mode.\n",
    "    * When you **CLICK** or **ENTER** on a cell, you are switched into **EDIT** mode.\n",
    "    * When you **ESC**, you are switched into **COMMAND** mode.\n",
    "    * After editting, you hit **CTRL + ENTER** to execute the cell."
   ]
  },
  {
   "cell_type": "markdown",
   "metadata": {},
   "source": [
    "## EXERCISE: ORDERING CELLS\n",
    "* The following cells are terribly disorganized! Please sort them in an increasing order: 1,2,3,4,5\n",
    "    * Remove duplicate.\n",
    "    * If there is any missing number, please create one."
   ]
  },
  {
   "cell_type": "markdown",
   "metadata": {},
   "source": [
    "Cell 5"
   ]
  },
  {
   "cell_type": "markdown",
   "metadata": {},
   "source": [
    "Cell 5"
   ]
  },
  {
   "cell_type": "markdown",
   "metadata": {},
   "source": [
    "Cell 3"
   ]
  },
  {
   "cell_type": "markdown",
   "metadata": {},
   "source": [
    "Cell 1"
   ]
  },
  {
   "cell_type": "markdown",
   "metadata": {},
   "source": [
    "Cell 2"
   ]
  },
  {
   "cell_type": "markdown",
   "metadata": {},
   "source": [
    "## 1.2. Code Cells and Markdown Cells\n",
    "* TWO types of cells are important: **CODE** cells, and **MARKDOWN** cells.\n",
    "    * If you see **In [ ]** on the left: the cell is a **CODE** cell.\n",
    "        * You can **write** and **evaluate** python codes.\n",
    "        * Hit **CTRL+ENTER** to evaluate"
   ]
  },
  {
   "cell_type": "code",
   "execution_count": 6,
   "metadata": {
    "collapsed": false
   },
   "outputs": [
    {
     "name": "stdout",
     "output_type": "stream",
     "text": [
      "I\n",
      "am\n",
      "a\n",
      "CODE\n",
      "cell.\n"
     ]
    }
   ],
   "source": [
    "'''This is a CODE cell'''\n",
    "a = ''\n",
    "for s in 'I am a CODE cell.'.split():\n",
    "    print s\n",
    "    a = s"
   ]
  },
  {
   "cell_type": "markdown",
   "metadata": {},
   "source": [
    "* ** Memory is shared among the cells ! **\n",
    "    * The results from previously ran cells are kept\n",
    "    * Aware of the order of executed cells!\n",
    "    * And the workspace is intact even if you close the window!"
   ]
  },
  {
   "cell_type": "code",
   "execution_count": 8,
   "metadata": {
    "collapsed": false
   },
   "outputs": [
    {
     "name": "stdout",
     "output_type": "stream",
     "text": [
      "cell.\n"
     ]
    }
   ],
   "source": [
    "'''We have never delcare a in this cell,\n",
    "   but we can print it because it is declared in the previous cell.'''\n",
    "print a"
   ]
  },
  {
   "cell_type": "markdown",
   "metadata": {},
   "source": [
    " ![Markdown](https://upload.wikimedia.org/wikipedia/commons/thumb/4/48/Markdown-mark.svg/208px-Markdown-mark.svg.png)\n",
    " * (Almost always) Everything else is a **MARKDOWN** cell.\n",
    "     * **Markdown** is a lightweight markup language to foramt text\n",
    "         * It's like $\\LaTeX$ (in a sense that writing is done by coding), but has much simpler grammar.\n",
    "     * You can embed an image (just as above)\n",
    "     * You can write *a formatted text* (~~just as this line does~~)\n",
    "     * You can write some inline math\n",
    "         * use \\$ \\~ \\$ just as in $\\LaTeX$\n",
    "         * $E = mc^2$\n",
    "         * $\\boldsymbol\\alpha$\n",
    "     * You can embed a code snippet\n",
    "```python\n",
    "import numpy as np\n",
    "import matplotlib.pyplot as plt\n",
    "plt.plot(np.random.randn(5))\n",
    "```\n",
    "\n",
    "     * You can embed a table  \n",
    "     \n",
    "| table | header1 |header2 |\n",
    "|-------|---------|--------|\n",
    "|hi     | this  is  |  a table |\n",
    "\n",
    " * For more complete listing of markdown grammars:\n",
    "     * [English](https://en.support.wordpress.com/markdown-quick-reference/ )\n",
    "     * [Korean](https://gist.github.com/ihoneymon/652be052a0727ad59601 )"
   ]
  },
  {
   "cell_type": "markdown",
   "metadata": {
    "collapsed": true
   },
   "source": [
    "# 2. Amazing Features of Jupyter Notebook"
   ]
  },
  {
   "cell_type": "markdown",
   "metadata": {},
   "source": [
    "## 2.1. On-Spot Documentation (SHIFT + TAB)\n",
    "* You can open a documentation while you are coding!\n",
    "* Put your cursor at the function to be queried, and press **SHIFT + TAB**\n",
    "    * The library should be **imported** beforehand"
   ]
  },
  {
   "cell_type": "code",
   "execution_count": 4,
   "metadata": {
    "collapsed": true
   },
   "outputs": [],
   "source": [
    "'''importing the library'''\n",
    "import numpy as np"
   ]
  },
  {
   "cell_type": "code",
   "execution_count": 5,
   "metadata": {
    "collapsed": false
   },
   "outputs": [
    {
     "data": {
      "text/plain": [
       "array([1, 2, 3])"
      ]
     },
     "execution_count": 5,
     "metadata": {},
     "output_type": "execute_result"
    }
   ],
   "source": [
    "'''press SHIFT+TAB at the parentheses'''\n",
    "np.array([1,2,3,])"
   ]
  },
  {
   "cell_type": "markdown",
   "metadata": {},
   "source": [
    "* If you hit **SHIFT + TAB** more than once, you will get more detailed information\n",
    "    * Press **ESC** to close"
   ]
  },
  {
   "cell_type": "markdown",
   "metadata": {},
   "source": [
    "## 2.2. Run Bash Command (!)\n",
    "* If a line starts with **!**, it runs bash command as a subprocess.\n",
    "* You can even fetch the result as a python variable."
   ]
  },
  {
   "cell_type": "code",
   "execution_count": 14,
   "metadata": {
    "collapsed": false
   },
   "outputs": [
    {
     "name": "stdout",
     "output_type": "stream",
     "text": [
      "total 24\r\n",
      "-rw-r--r--. 1 root root 8995 Dec 18 15:01 1_introduction_to_jupyter_notebook.ipynb\r\n",
      "-rw-r--r--. 1 root root  581 Dec 18 00:42 2_scientific_computing_with_python.ipynb\r\n",
      "-rw-r--r--. 1 root root  581 Dec 18 00:42 3_introduction_to_tensorflow.ipynb\r\n",
      "-rw-r--r--. 1 root root   69 Dec 18 00:07 README.md\r\n"
     ]
    }
   ],
   "source": [
    "''' Run a bash command'''\n",
    "! ls -l"
   ]
  },
  {
   "cell_type": "code",
   "execution_count": 16,
   "metadata": {
    "collapsed": false
   },
   "outputs": [
    {
     "name": "stdout",
     "output_type": "stream",
     "text": [
      "['1_introduction_to_jupyter_notebook.ipynb', '2_scientific_computing_with_python.ipynb', '3_introduction_to_tensorflow.ipynb', 'README.md']\n"
     ]
    }
   ],
   "source": [
    "''' Run a bash command and bind the result to a python variable'''\n",
    "a = ! ls\n",
    "print a"
   ]
  },
  {
   "cell_type": "code",
   "execution_count": 17,
   "metadata": {
    "collapsed": false
   },
   "outputs": [
    {
     "name": "stdout",
     "output_type": "stream",
     "text": [
      "Collecting pandas\n",
      "/usr/local/lib/python2.7/dist-packages/pip/_vendor/requests/packages/urllib3/util/ssl_.py:318: SNIMissingWarning: An HTTPS request has been made, but the SNI (Subject Name Indication) extension to TLS is not available on this platform. This may cause the server to present an incorrect TLS certificate, which can cause validation failures. You can upgrade to a newer version of Python to solve this. For more information, see https://urllib3.readthedocs.io/en/latest/security.html#snimissingwarning.\n",
      "  SNIMissingWarning\n",
      "/usr/local/lib/python2.7/dist-packages/pip/_vendor/requests/packages/urllib3/util/ssl_.py:122: InsecurePlatformWarning: A true SSLContext object is not available. This prevents urllib3 from configuring SSL appropriately and may cause certain SSL connections to fail. You can upgrade to a newer version of Python to solve this. For more information, see https://urllib3.readthedocs.io/en/latest/security.html#insecureplatformwarning.\n",
      "  InsecurePlatformWarning\n",
      "  Downloading pandas-0.19.1-cp27-cp27mu-manylinux1_x86_64.whl (16.7MB)\n",
      "\u001b[K    100% |################################| 16.7MB 70kB/s eta 0:00:011   0% |                                | 20kB 1.3MB/s eta 0:00:14\u001b[K    0% |                                | 40kB 660kB/s eta 0:00:26\u001b[K    0% |                                | 61kB 839kB/s eta 0:00:20\u001b[K    0% |                                | 81kB 1.0MB/s eta 0:00:17\u001b[K    0% |                                | 102kB 1.1MB/s eta 0:00:16\u001b[K    0% |                                | 122kB 1.2MB/s eta 0:00:14\u001b[K    0% |                                | 143kB 1.7MB/s eta 0:00:10\u001b[K    0% |                                | 163kB 1.9MB/s eta 0:00:09\u001b[K    1% |                                | 184kB 1.8MB/s eta 0:00:10\u001b[K    1% |                                | 204kB 2.2MB/s eta 0:00:08\u001b[K    1% |                                | 225kB 2.3MB/s eta 0:00:08\u001b[K    1% |                                | 245kB 3.8MB/s eta 0:00:05\u001b[K    1% |                                | 266kB 3.1MB/s eta 0:00:06\u001b[K    1% |                                | 296kB 2.0MB/s eta 0:00:09\u001b[K    1% |                                | 317kB 2.1MB/s eta 0:00:08\u001b[K    2% |                                | 337kB 2.0MB/s eta 0:00:09\u001b[K    2% |                                | 358kB 2.0MB/s eta 0:00:09\u001b[K    2% |                                | 378kB 1.8MB/s eta 0:00:09\u001b[K    2% |                                | 409kB 3.0MB/s eta 0:00:06\u001b[K    2% |                                | 430kB 2.4MB/s eta 0:00:07\u001b[K    2% |                                | 450kB 2.7MB/s eta 0:00:07\u001b[K    2% |                                | 471kB 2.6MB/s eta 0:00:07\u001b[K    2% |                                | 491kB 2.6MB/s eta 0:00:07\u001b[K    3% |                                | 512kB 2.3MB/s eta 0:00:08\u001b[K    3% |#                               | 542kB 2.6MB/s eta 0:00:07\u001b[K    3% |#                               | 563kB 3.1MB/s eta 0:00:06\u001b[K    3% |#                               | 583kB 3.1MB/s eta 0:00:06\u001b[K    3% |#                               | 604kB 2.9MB/s eta 0:00:06\u001b[K    3% |#                               | 624kB 2.5MB/s eta 0:00:07\u001b[K    3% |#                               | 645kB 2.8MB/s eta 0:00:06\u001b[K    3% |#                               | 665kB 2.9MB/s eta 0:00:06\u001b[K    4% |#                               | 686kB 2.9MB/s eta 0:00:06\u001b[K    4% |#                               | 706kB 2.6MB/s eta 0:00:07\u001b[K    4% |#                               | 727kB 3.3MB/s eta 0:00:05\u001b[K    4% |#                               | 747kB 3.3MB/s eta 0:00:05\u001b[K    4% |#                               | 768kB 3.2MB/s eta 0:00:05\u001b[K    4% |#                               | 788kB 2.6MB/s eta 0:00:07\u001b[K    4% |#                               | 808kB 2.9MB/s eta 0:00:06\u001b[K    5% |#                               | 839kB 2.6MB/s eta 0:00:07\u001b[K    5% |#                               | 860kB 3.0MB/s eta 0:00:06\u001b[K    5% |#                               | 880kB 3.2MB/s eta 0:00:05\u001b[K    5% |#                               | 901kB 3.4MB/s eta 0:00:05\u001b[K    5% |#                               | 921kB 3.1MB/s eta 0:00:06\u001b[K    5% |#                               | 942kB 3.4MB/s eta 0:00:05\u001b[K    5% |#                               | 962kB 3.2MB/s eta 0:00:05\u001b[K    5% |#                               | 983kB 3.2MB/s eta 0:00:05\u001b[K    6% |#                               | 1.0MB 2.8MB/s eta 0:00:06\u001b[K    6% |#                               | 1.0MB 3.1MB/s eta 0:00:06\u001b[K    6% |##                              | 1.0MB 3.1MB/s eta 0:00:05\u001b[K    6% |##                              | 1.1MB 3.5MB/s eta 0:00:05\u001b[K    6% |##                              | 1.1MB 3.2MB/s eta 0:00:05\u001b[K    6% |##                              | 1.1MB 3.7MB/s eta 0:00:05\u001b[K    6% |##                              | 1.1MB 3.6MB/s eta 0:00:05\u001b[K    6% |##                              | 1.1MB 3.5MB/s eta 0:00:05\u001b[K    6% |##                              | 1.2MB 2.9MB/s eta 0:00:06\u001b[K    7% |##                              | 1.2MB 3.2MB/s eta 0:00:05\u001b[K    7% |##                              | 1.2MB 3.2MB/s eta 0:00:05\u001b[K    7% |##                              | 1.2MB 3.2MB/s eta 0:00:05\u001b[K    7% |##                              | 1.2MB 3.0MB/s eta 0:00:06\u001b[K    7% |##                              | 1.3MB 3.7MB/s eta 0:00:05\u001b[K    7% |##                              | 1.3MB 3.8MB/s eta 0:00:05\u001b[K    7% |##                              | 1.3MB 3.8MB/s eta 0:00:05\u001b[K    8% |##                              | 1.3MB 3.6MB/s eta 0:00:05\u001b[K    8% |##                              | 1.4MB 2.9MB/s eta 0:00:06\u001b[K    8% |##                              | 1.4MB 3.3MB/s eta 0:00:05\u001b[K    8% |##                              | 1.4MB 3.4MB/s eta 0:00:05\u001b[K    8% |##                              | 1.4MB 3.3MB/s eta 0:00:05\u001b[K    8% |##                              | 1.4MB 3.1MB/s eta 0:00:05\u001b[K    8% |##                              | 1.5MB 4.1MB/s eta 0:00:04\u001b[K    8% |##                              | 1.5MB 4.1MB/s eta 0:00:04\u001b[K    9% |##                              | 1.5MB 4.0MB/s eta 0:00:04\u001b[K    9% |##                              | 1.5MB 4.1MB/s eta 0:00:04\u001b[K    9% |##                              | 1.6MB 3.7MB/s eta 0:00:05\u001b[K    9% |###                             | 1.6MB 3.0MB/s eta 0:00:05\u001b[K    9% |###                             | 1.6MB 3.4MB/s eta 0:00:05\u001b[K    9% |###                             | 1.6MB 3.4MB/s eta 0:00:05\u001b[K    9% |###                             | 1.6MB 3.4MB/s eta 0:00:05\u001b[K    9% |###                             | 1.7MB 3.4MB/s eta 0:00:05\u001b[K    10% |###                             | 1.7MB 4.1MB/s eta 0:00:04\u001b[K    10% |###                             | 1.7MB 4.0MB/s eta 0:00:04\u001b[K    10% |###                             | 1.7MB 4.2MB/s eta 0:00:04\u001b[K    10% |###                             | 1.7MB 3.7MB/s eta 0:00:05\u001b[K    10% |###                             | 1.8MB 4.1MB/s eta 0:00:04\u001b[K    10% |###                             | 1.8MB 3.9MB/s eta 0:00:04\u001b[K    10% |###                             | 1.8MB 3.9MB/s eta 0:00:04\u001b[K    10% |###                             | 1.8MB 3.3MB/s eta 0:00:05\u001b[K    11% |###                             | 1.8MB 3.6MB/s eta 0:00:05\u001b[K    11% |###                             | 1.9MB 3.6MB/s eta 0:00:05\u001b[K    11% |###                             | 1.9MB 4.0MB/s eta 0:00:04\u001b[K    11% |###                             | 1.9MB 4.1MB/s eta 0:00:04\u001b[K    11% |###                             | 1.9MB 3.6MB/s eta 0:00:05\u001b[K    11% |###                             | 2.0MB 4.7MB/s eta 0:00:04\u001b[K    11% |###                             | 2.0MB 4.4MB/s eta 0:00:04\u001b[K    11% |###                             | 2.0MB 4.3MB/s eta 0:00:04\u001b[K    12% |###                             | 2.0MB 3.5MB/s eta 0:00:05\u001b[K    12% |###                             | 2.0MB 4.0MB/s eta 0:00:04\u001b[K    12% |###                             | 2.1MB 3.9MB/s eta 0:00:04\u001b[K    12% |###                             | 2.1MB 3.9MB/s eta 0:00:04\u001b[K    12% |####                            | 2.1MB 4.3MB/s eta 0:00:04\u001b[K    12% |####                            | 2.1MB 4.2MB/s eta 0:00:04\u001b[K    12% |####                            | 2.2MB 3.7MB/s eta 0:00:04\u001b[K    13% |####                            | 2.2MB 4.3MB/s eta 0:00:04\u001b[K    13% |####                            | 2.2MB 4.5MB/s eta 0:00:04\u001b[K    13% |####                            | 2.2MB 4.6MB/s eta 0:00:04\u001b[K    13% |####                            | 2.2MB 3.6MB/s eta 0:00:04\u001b[K    13% |####                            | 2.3MB 4.3MB/s eta 0:00:04\u001b[K    13% |####                            | 2.3MB 4.3MB/s eta 0:00:04\u001b[K    13% |####                            | 2.3MB 4.3MB/s eta 0:00:04\u001b[K    13% |####                            | 2.3MB 3.8MB/s eta 0:00:04\u001b[K    14% |####                            | 2.3MB 4.2MB/s eta 0:00:04\u001b[K    14% |####                            | 2.4MB 4.8MB/s eta 0:00:04\u001b[K    14% |####                            | 2.4MB 4.7MB/s eta 0:00:04\u001b[K    14% |####                            | 2.4MB 4.9MB/s eta 0:00:03\u001b[K    14% |####                            | 2.4MB 4.1MB/s eta 0:00:04\u001b[K    14% |####                            | 2.4MB 4.9MB/s eta 0:00:03\u001b[K    14% |####                            | 2.5MB 5.0MB/s eta 0:00:03\u001b[K    14% |####                            | 2.5MB 5.2MB/s eta 0:00:03\u001b[K    15% |####                            | 2.5MB 3.8MB/s eta 0:00:04\u001b[K    15% |####                            | 2.5MB 4.4MB/s eta 0:00:04\u001b[K    15% |####                            | 2.5MB 4.6MB/s eta 0:00:04\u001b[K    15% |####                            | 2.6MB 4.3MB/s eta 0:00:04\u001b[K    15% |####                            | 2.6MB 3.8MB/s eta 0:00:04\u001b[K    15% |#####                           | 2.6MB 5.0MB/s eta 0:00:03\u001b[K    15% |#####                           | 2.6MB 5.3MB/s eta 0:00:03\u001b[K    15% |#####                           | 2.7MB 5.0MB/s eta 0:00:03\u001b[K    16% |#####                           | 2.7MB 4.6MB/s eta 0:00:04\u001b[K    16% |#####                           | 2.7MB 5.5MB/s eta 0:00:03\u001b[K    16% |#####                           | 2.7MB 5.6MB/s eta 0:00:03\u001b[K    16% |#####                           | 2.7MB 5.3MB/s eta 0:00:03\u001b[K    16% |#####                           | 2.8MB 4.1MB/s eta 0:00:04\u001b[K    16% |#####                           | 2.8MB 4.8MB/s eta 0:00:03\u001b[K    16% |#####                           | 2.8MB 4.7MB/s eta 0:00:03\u001b[K    16% |#####                           | 2.8MB 4.5MB/s eta 0:00:04\u001b[K    16% |#####                           | 2.8MB 4.0MB/s eta 0:00:04\u001b[K    17% |#####                           | 2.9MB 5.2MB/s eta 0:00:03\u001b[K    17% |#####                           | 2.9MB 5.0MB/s eta 0:00:03\u001b[K    17% |#####                           | 2.9MB 4.9MB/s eta 0:00:03\u001b[K    17% |#####                           | 2.9MB 4.7MB/s eta 0:00:03\u001b[K    17% |#####                           | 2.9MB 5.4MB/s eta 0:00:03\u001b[K    17% |#####                           | 3.0MB 5.5MB/s eta 0:00:03\u001b[K    17% |#####                           | 3.0MB 5.6MB/s eta 0:00:03\u001b[K    17% |#####                           | 3.0MB 5.1MB/s eta 0:00:03\u001b[K    18% |#####                           | 3.0MB 5.8MB/s eta 0:00:03\u001b[K    18% |#####                           | 3.0MB 4.9MB/s eta 0:00:03\u001b[K    18% |#####                           | 3.1MB 4.7MB/s eta 0:00:03\u001b[K    18% |#####                           | 3.1MB 4.4MB/s eta 0:00:04\u001b[K    18% |#####                           | 3.1MB 4.7MB/s eta 0:00:03\u001b[K    18% |#####                           | 3.1MB 4.7MB/s eta 0:00:03\u001b[K    18% |######                          | 3.1MB 5.6MB/s eta 0:00:03\u001b[K    18% |######                          | 3.2MB 4.9MB/s eta 0:00:03\u001b[K    19% |######                          | 3.2MB 5.5MB/s eta 0:00:03\u001b[K    19% |######                          | 3.2MB 5.5MB/s eta 0:00:03\u001b[K    19% |######                          | 3.2MB 5.8MB/s eta 0:00:03\u001b[K    19% |######                          | 3.2MB 4.8MB/s eta 0:00:03\u001b[K    19% |######                          | 3.3MB 5.8MB/s eta 0:00:03\u001b[K    19% |######                          | 3.3MB 6.2MB/s eta 0:00:03\u001b[K    19% |######                          | 3.3MB 6.1MB/s eta 0:00:03\u001b[K    19% |######                          | 3.3MB 5.4MB/s eta 0:00:03\u001b[K    20% |######                          | 3.4MB 5.4MB/s eta 0:00:03\u001b[K    20% |######                          | 3.4MB 4.8MB/s eta 0:00:03\u001b[K    20% |######                          | 3.4MB 5.2MB/s eta 0:00:03\u001b[K    20% |######                          | 3.4MB 5.3MB/s eta 0:00:03\u001b[K    20% |######                          | 3.4MB 6.1MB/s eta 0:00:03\u001b[K    20% |######                          | 3.5MB 5.4MB/s eta 0:00:03\u001b[K    20% |######                          | 3.5MB 6.0MB/s eta 0:00:03\u001b[K    20% |######                          | 3.5MB 6.3MB/s eta 0:00:03\u001b[K    21% |######                          | 3.5MB 6.3MB/s eta 0:00:03\u001b[K    21% |######                          | 3.5MB 5.4MB/s eta 0:00:03\u001b[K    21% |######                          | 3.6MB 6.6MB/s eta 0:00:02\u001b[K    21% |######                          | 3.6MB 6.8MB/s eta 0:00:02\u001b[K    21% |######                          | 3.6MB 6.6MB/s eta 0:00:02\u001b[K    21% |######                          | 3.6MB 5.9MB/s eta 0:00:03\u001b[K    21% |#######                         | 3.7MB 5.2MB/s eta 0:00:03\u001b[K    22% |#######                         | 3.7MB 5.8MB/s eta 0:00:03\u001b[K    22% |#######                         | 3.7MB 5.5MB/s eta 0:00:03\u001b[K    22% |#######                         | 3.7MB 5.7MB/s eta 0:00:03\u001b[K    22% |#######                         | 3.7MB 4.9MB/s eta 0:00:03\u001b[K    22% |#######                         | 3.8MB 6.2MB/s eta 0:00:03\u001b[K    22% |#######                         | 3.8MB 6.5MB/s eta 0:00:02\u001b[K    22% |#######                         | 3.8MB 6.7MB/s eta 0:00:02\u001b[K    22% |#######                         | 3.8MB 5.6MB/s eta 0:00:03\u001b[K    22% |#######                         | 3.8MB 6.5MB/s eta 0:00:02\u001b[K    23% |#######                         | 3.9MB 6.7MB/s eta 0:00:02\u001b[K    23% |#######                         | 3.9MB 6.4MB/s eta 0:00:03\u001b[K    23% |#######                         | 3.9MB 6.0MB/s eta 0:00:03\u001b[K    23% |#######                         | 3.9MB 7.0MB/s eta 0:00:02\u001b[K    23% |#######                         | 3.9MB 7.4MB/s eta 0:00:02\u001b[K    23% |#######                         | 4.0MB 6.5MB/s eta 0:00:02\u001b[K    23% |#######                         | 4.0MB 5.4MB/s eta 0:00:03\u001b[K    23% |#######                         | 4.0MB 6.4MB/s eta 0:00:02\u001b[K    24% |#######                         | 4.0MB 6.1MB/s eta 0:00:03\u001b[K    24% |#######                         | 4.0MB 5.7MB/s eta 0:00:03\u001b[K    24% |#######                         | 4.1MB 5.5MB/s eta 0:00:03\u001b[K    24% |#######                         | 4.1MB 6.7MB/s eta 0:00:02\u001b[K    24% |#######                         | 4.1MB 6.5MB/s eta 0:00:02\u001b[K    24% |#######                         | 4.1MB 6.5MB/s eta 0:00:02\u001b[K    24% |#######                         | 4.1MB 5.7MB/s eta 0:00:03\u001b[K    24% |#######                         | 4.2MB 6.8MB/s eta 0:00:02\u001b[K    25% |########                        | 4.2MB 7.0MB/s eta 0:00:02\u001b[K    25% |########                        | 4.2MB 6.4MB/s eta 0:00:02\u001b[K    25% |########                        | 4.2MB 6.4MB/s eta 0:00:02\u001b[K    25% |########                        | 4.2MB 7.4MB/s eta 0:00:02\u001b[K    25% |########                        | 4.3MB 7.5MB/s eta 0:00:02\u001b[K    25% |########                        | 4.3MB 7.7MB/s eta 0:00:02\u001b[K    25% |########                        | 4.3MB 7.2MB/s eta 0:00:02\u001b[K    26% |########                        | 4.3MB 6.6MB/s eta 0:00:02\u001b[K    26% |########                        | 4.4MB 6.0MB/s eta 0:00:03\u001b[K    26% |########                        | 4.4MB 5.9MB/s eta 0:00:03\u001b[K    26% |########                        | 4.4MB 6.1MB/s eta 0:00:03\u001b[K    26% |########                        | 4.4MB 6.3MB/s eta 0:00:02\u001b[K    26% |########                        | 4.4MB 5.7MB/s eta 0:00:03\u001b[K    26% |########                        | 4.5MB 6.6MB/s eta 0:00:02\u001b[K    26% |########                        | 4.5MB 7.4MB/s eta 0:00:02\u001b[K    26% |########                        | 4.5MB 7.2MB/s eta 0:00:02\u001b[K    27% |########                        | 4.5MB 6.0MB/s eta 0:00:03\u001b[K    27% |########                        | 4.5MB 7.4MB/s eta 0:00:02\u001b[K    27% |########                        | 4.6MB 7.5MB/s eta 0:00:02\u001b[K    27% |########                        | 4.6MB 7.1MB/s eta 0:00:02\u001b[K    27% |########                        | 4.6MB 6.4MB/s eta 0:00:02\u001b[K    27% |########                        | 4.6MB 6.6MB/s eta 0:00:02\u001b[K    27% |########                        | 4.7MB 7.0MB/s eta 0:00:02\u001b[K    28% |########                        | 4.7MB 7.6MB/s eta 0:00:02\u001b[K    28% |#########                       | 4.7MB 6.8MB/s eta 0:00:02\u001b[K    28% |#########                       | 4.7MB 5.9MB/s eta 0:00:03\u001b[K    28% |#########                       | 4.7MB 6.4MB/s eta 0:00:02\u001b[K    28% |#########                       | 4.8MB 6.4MB/s eta 0:00:02\u001b[K    28% |#########                       | 4.8MB 6.4MB/s eta 0:00:02\u001b[K    28% |#########                       | 4.8MB 6.5MB/s eta 0:00:02\u001b[K    28% |#########                       | 4.8MB 7.2MB/s eta 0:00:02\u001b[K    29% |#########                       | 4.8MB 7.8MB/s eta 0:00:02\u001b[K    29% |#########                       | 4.9MB 7.6MB/s eta 0:00:02\u001b[K    29% |#########                       | 4.9MB 6.4MB/s eta 0:00:02\u001b[K    29% |#########                       | 4.9MB 7.2MB/s eta 0:00:02\u001b[K    29% |#########                       | 4.9MB 7.9MB/s eta 0:00:02\u001b[K    29% |#########                       | 4.9MB 7.3MB/s eta 0:00:02\u001b[K    29% |#########                       | 5.0MB 6.9MB/s eta 0:00:02\u001b[K    29% |#########                       | 5.0MB 8.4MB/s eta 0:00:02\u001b[K    30% |#########                       | 5.0MB 6.8MB/s eta 0:00:02\u001b[K    30% |#########                       | 5.0MB 7.8MB/s eta 0:00:02\u001b[K    30% |#########                       | 5.1MB 7.7MB/s eta 0:00:02\u001b[K    30% |#########                       | 5.1MB 7.6MB/s eta 0:00:02\u001b[K    30% |#########                       | 5.1MB 6.3MB/s eta 0:00:02\u001b[K    30% |#########                       | 5.1MB 6.6MB/s eta 0:00:02\u001b[K    30% |#########                       | 5.1MB 6.9MB/s eta 0:00:02\u001b[K    30% |#########                       | 5.2MB 6.9MB/s eta 0:00:02\u001b[K    31% |#########                       | 5.2MB 6.3MB/s eta 0:00:02\u001b[K    31% |#########                       | 5.2MB 7.6MB/s eta 0:00:02\u001b[K    31% |##########                      | 5.2MB 8.7MB/s eta 0:00:02\u001b[K    31% |##########                      | 5.2MB 8.3MB/s eta 0:00:02\u001b[K    31% |##########                      | 5.3MB 7.1MB/s eta 0:00:02\u001b[K    31% |##########                      | 5.3MB 8.6MB/s eta 0:00:02\u001b[K    31% |##########                      | 5.3MB 8.2MB/s eta 0:00:02\u001b[K    31% |##########                      | 5.3MB 8.4MB/s eta 0:00:02\u001b[K    32% |##########                      | 5.3MB 8.2MB/s eta 0:00:02\u001b[K    32% |##########                      | 5.4MB 9.5MB/s eta 0:00:02\u001b[K    32% |##########                      | 5.4MB 8.6MB/s eta 0:00:02\u001b[K    32% |##########                      | 5.4MB 8.7MB/s eta 0:00:02\u001b[K    32% |##########                      | 5.4MB 8.4MB/s eta 0:00:02\u001b[K    32% |##########                      | 5.4MB 8.4MB/s eta 0:00:02\u001b[K    32% |##########                      | 5.5MB 8.5MB/s eta 0:00:02\u001b[K    32% |##########                      | 5.5MB 8.0MB/s eta 0:00:02\u001b[K    32% |##########                      | 5.5MB 6.3MB/s eta 0:00:02\u001b[K    33% |##########                      | 5.5MB 6.5MB/s eta 0:00:02\u001b[K    33% |##########                      | 5.6MB 6.7MB/s eta 0:00:02\u001b[K    33% |##########                      | 5.6MB 7.0MB/s eta 0:00:02\u001b[K    33% |##########                      | 5.6MB 7.0MB/s eta 0:00:02\u001b[K    33% |##########                      | 5.6MB 8.6MB/s eta 0:00:02\u001b[K    33% |##########                      | 5.6MB 8.9MB/s eta 0:00:02\u001b[K    33% |##########                      | 5.7MB 9.1MB/s eta 0:00:02\u001b[K    33% |##########                      | 5.7MB 7.4MB/s eta 0:00:02\u001b[K    34% |##########                      | 5.7MB 8.1MB/s eta 0:00:02\u001b[K    34% |##########                      | 5.7MB 8.5MB/s eta 0:00:02\u001b[K    34% |##########                      | 5.7MB 8.2MB/s eta 0:00:02\u001b[K    34% |###########                     | 5.8MB 7.3MB/s eta 0:00:02\u001b[K    34% |###########                     | 5.8MB 8.9MB/s eta 0:00:02\u001b[K    34% |###########                     | 5.8MB 8.9MB/s eta 0:00:02\u001b[K    34% |###########                     | 5.8MB 9.1MB/s eta 0:00:02\u001b[K    34% |###########                     | 5.8MB 8.3MB/s eta 0:00:02\u001b[K    35% |###########                     | 5.9MB 9.7MB/s eta 0:00:02\u001b[K    35% |###########                     | 5.9MB 9.3MB/s eta 0:00:02\u001b[K    35% |###########                     | 5.9MB 9.3MB/s eta 0:00:02\u001b[K    35% |###########                     | 5.9MB 7.0MB/s eta 0:00:02\u001b[K    35% |###########                     | 5.9MB 6.9MB/s eta 0:00:02\u001b[K    35% |###########                     | 6.0MB 6.9MB/s eta 0:00:02\u001b[K    35% |###########                     | 6.0MB 6.9MB/s eta 0:00:02\u001b[K    35% |###########                     | 6.0MB 6.3MB/s eta 0:00:02\u001b[K    36% |###########                     | 6.0MB 8.0MB/s eta 0:00:02\u001b[K    36% |###########                     | 6.0MB 9.2MB/s eta 0:00:02\u001b[K    36% |###########                     | 6.1MB 9.2MB/s eta 0:00:02\u001b[K    36% |###########                     | 6.1MB 8.2MB/s eta 0:00:02\u001b[K    36% |###########                     | 6.1MB 9.3MB/s eta 0:00:02\u001b[K    36% |###########                     | 6.1MB 9.4MB/s eta 0:00:02\u001b[K    36% |###########                     | 6.1MB 8.6MB/s eta 0:00:02\u001b[K    36% |###########                     | 6.2MB 7.7MB/s eta 0:00:02\u001b[K    37% |###########                     | 6.2MB 8.9MB/s eta 0:00:02\u001b[K    37% |###########                     | 6.2MB 8.8MB/s eta 0:00:02\u001b[K    37% |###########                     | 6.2MB 9.0MB/s eta 0:00:02\u001b[K    37% |###########                     | 6.2MB 8.6MB/s eta 0:00:02\u001b[K    37% |############                    | 6.3MB 9.6MB/s eta 0:00:02\u001b[K    37% |############                    | 6.3MB 9.5MB/s eta 0:00:02\u001b[K    37% |############                    | 6.3MB 9.2MB/s eta 0:00:02\u001b[K    37% |############                    | 6.3MB 8.6MB/s eta 0:00:02\u001b[K    38% |############                    | 6.3MB 8.8MB/s eta 0:00:02\u001b[K    38% |############                    | 6.4MB 8.2MB/s eta 0:00:02\u001b[K    38% |############                    | 6.4MB 7.6MB/s eta 0:00:02\u001b[K    38% |############                    | 6.4MB 6.9MB/s eta 0:00:02\u001b[K    38% |############                    | 6.4MB 7.3MB/s eta 0:00:02\u001b[K    38% |############                    | 6.5MB 7.5MB/s eta 0:00:02\u001b[K    38% |############                    | 6.5MB 8.5MB/s eta 0:00:02\u001b[K    38% |############                    | 6.5MB 7.6MB/s eta 0:00:02\u001b[K    39% |############                    | 6.5MB 8.5MB/s eta 0:00:02\u001b[K    39% |############                    | 6.5MB 8.4MB/s eta 0:00:02\u001b[K    39% |############                    | 6.6MB 9.6MB/s eta 0:00:02\u001b[K    39% |############                    | 6.6MB 7.7MB/s eta 0:00:02\u001b[K    39% |############                    | 6.6MB 10.5MB/s eta 0:00:01\u001b[K    39% |############                    | 6.6MB 10.2MB/s eta 0:00:01\u001b[K    39% |############                    | 6.6MB 10.2MB/s eta 0:00:01\u001b[K    39% |############                    | 6.7MB 10.1MB/s eta 0:00:01\u001b[K    40% |############                    | 6.7MB 9.1MB/s eta 0:00:02\u001b[K    40% |############                    | 6.7MB 10.9MB/s eta 0:00:01\u001b[K    40% |############                    | 6.7MB 10.7MB/s eta 0:00:01\u001b[K    40% |############                    | 6.7MB 9.5MB/s eta 0:00:02\u001b[K    40% |############                    | 6.8MB 9.3MB/s eta 0:00:02\u001b[K    40% |#############                   | 6.8MB 10.5MB/s eta 0:00:01\u001b[K    40% |#############                   | 6.8MB 9.6MB/s eta 0:00:02\u001b[K    40% |#############                   | 6.8MB 9.9MB/s eta 0:00:01\u001b[K    41% |#############                   | 6.9MB 8.0MB/s eta 0:00:02\u001b[K    41% |#############                   | 6.9MB 8.3MB/s eta 0:00:02\u001b[K    41% |#############                   | 6.9MB 8.8MB/s eta 0:00:02\u001b[K    41% |#############                   | 6.9MB 8.9MB/s eta 0:00:02\u001b[K    41% |#############                   | 6.9MB 7.9MB/s eta 0:00:02\u001b[K    41% |#############                   | 7.0MB 10.4MB/s eta 0:00:01\u001b[K    41% |#############                   | 7.0MB 10.2MB/s eta 0:00:01\u001b[K    41% |#############                   | 7.0MB 9.5MB/s eta 0:00:02\u001b[K    42% |#############                   | 7.0MB 8.5MB/s eta 0:00:02\u001b[K    42% |#############                   | 7.0MB 9.4MB/s eta 0:00:02\u001b[K    42% |#############                   | 7.1MB 10.2MB/s eta 0:00:01\u001b[K    42% |#############                   | 7.1MB 10.3MB/s eta 0:00:01\u001b[K    42% |#############                   | 7.1MB 8.9MB/s eta 0:00:02\u001b[K    42% |#############                   | 7.1MB 10.7MB/s eta 0:00:01\u001b[K    42% |#############                   | 7.1MB 11.0MB/s eta 0:00:01\u001b[K    42% |#############                   | 7.2MB 10.2MB/s eta 0:00:01\u001b[K    42% |#############                   | 7.2MB 9.2MB/s eta 0:00:02\u001b[K    43% |#############                   | 7.2MB 12.2MB/s eta 0:00:01\u001b[K    43% |#############                   | 7.2MB 11.0MB/s eta 0:00:01\u001b[K    43% |#############                   | 7.2MB 10.7MB/s eta 0:00:01\u001b[K    43% |#############                   | 7.3MB 9.0MB/s eta 0:00:02\u001b[K    43% |#############                   | 7.3MB 11.4MB/s eta 0:00:01\u001b[K    43% |#############                   | 7.3MB 10.7MB/s eta 0:00:01\u001b[K    43% |##############                  | 7.3MB 9.0MB/s eta 0:00:02\u001b[K    43% |##############                  | 7.3MB 8.6MB/s eta 0:00:02\u001b[K    44% |##############                  | 7.4MB 9.5MB/s eta 0:00:01\u001b[K    44% |##############                  | 7.4MB 9.3MB/s eta 0:00:01\u001b[K    44% |##############                  | 7.4MB 8.8MB/s eta 0:00:02\u001b[K    44% |##############                  | 7.4MB 9.4MB/s eta 0:00:01\u001b[K    44% |##############                  | 7.4MB 9.8MB/s eta 0:00:01\u001b[K    44% |##############                  | 7.5MB 9.3MB/s eta 0:00:01\u001b[K    44% |##############                  | 7.5MB 9.0MB/s eta 0:00:02\u001b[K    44% |##############                  | 7.5MB 8.5MB/s eta 0:00:02\u001b[K    45% |##############                  | 7.5MB 9.6MB/s eta 0:00:01\u001b[K    45% |##############                  | 7.5MB 10.6MB/s eta 0:00:01\u001b[K    45% |##############                  | 7.6MB 11.4MB/s eta 0:00:01\u001b[K    45% |##############                  | 7.6MB 9.5MB/s eta 0:00:01\u001b[K    45% |##############                  | 7.6MB 11.6MB/s eta 0:00:01\u001b[K    45% |##############                  | 7.6MB 10.8MB/s eta 0:00:01\u001b[K    45% |##############                  | 7.6MB 10.6MB/s eta 0:00:01\u001b[K    45% |##############                  | 7.7MB 10.5MB/s eta 0:00:01\u001b[K    46% |##############                  | 7.7MB 11.6MB/s eta 0:00:01\u001b[K    46% |##############                  | 7.7MB 11.7MB/s eta 0:00:01\u001b[K    46% |##############                  | 7.7MB 11.9MB/s eta 0:00:01\u001b[K    46% |##############                  | 7.8MB 10.2MB/s eta 0:00:01\u001b[K    46% |##############                  | 7.8MB 11.1MB/s eta 0:00:01\u001b[K    46% |##############                  | 7.8MB 12.6MB/s eta 0:00:01\u001b[K    46% |##############                  | 7.8MB 12.1MB/s eta 0:00:01\u001b[K    46% |###############                 | 7.8MB 1.6MB/s eta 0:00:06\u001b[K    47% |###############                 | 7.9MB 1.7MB/s eta 0:00:06\u001b[K    47% |###############                 | 7.9MB 1.7MB/s eta 0:00:06\u001b[K    47% |###############                 | 7.9MB 1.7MB/s eta 0:00:06\u001b[K    47% |###############                 | 7.9MB 1.8MB/s eta 0:00:05\u001b[K    47% |###############                 | 7.9MB 50.9MB/s eta 0:00:01\u001b[K    47% |###############                 | 8.0MB 51.7MB/s eta 0:00:01\u001b[K    47% |###############                 | 8.0MB 52.3MB/s eta 0:00:01\u001b[K    47% |###############                 | 8.0MB 51.3MB/s eta 0:00:01\u001b[K    48% |###############                 | 8.0MB 53.8MB/s eta 0:00:01\u001b[K    48% |###############                 | 8.0MB 53.8MB/s eta 0:00:01\u001b[K    48% |###############                 | 8.1MB 52.9MB/s eta 0:00:01\u001b[K    48% |###############                 | 8.1MB 51.4MB/s eta 0:00:01\u001b[K    48% |###############                 | 8.1MB 52.4MB/s eta 0:00:01\u001b[K    48% |###############                 | 8.1MB 51.9MB/s eta 0:00:01\u001b[K    48% |###############                 | 8.1MB 52.3MB/s eta 0:00:01\u001b[K    48% |###############                 | 8.2MB 51.7MB/s eta 0:00:01\u001b[K    49% |###############                 | 8.2MB 53.9MB/s eta 0:00:01\u001b[K    49% |###############                 | 8.2MB 54.0MB/s eta 0:00:01\u001b[K    49% |###############                 | 8.2MB 47.1MB/s eta 0:00:01\u001b[K    49% |###############                 | 8.2MB 45.7MB/s eta 0:00:01\u001b[K    49% |###############                 | 8.3MB 46.1MB/s eta 0:00:01\u001b[K    49% |###############                 | 8.3MB 45.9MB/s eta 0:00:01\u001b[K    49% |###############                 | 8.3MB 46.0MB/s eta 0:00:01\u001b[K    49% |###############                 | 8.3MB 51.0MB/s eta 0:00:01\u001b[K    49% |###############                 | 8.3MB 53.2MB/s eta 0:00:01\u001b[K    50% |################                | 8.4MB 52.8MB/s eta 0:00:01\u001b[K    50% |################                | 8.4MB 52.7MB/s eta 0:00:01\u001b[K    50% |################                | 8.4MB 48.9MB/s eta 0:00:01\u001b[K    50% |################                | 8.4MB 50.5MB/s eta 0:00:01\u001b[K    50% |################                | 8.4MB 28.0MB/s eta 0:00:01\u001b[K    50% |################                | 8.5MB 18.8MB/s eta 0:00:01\u001b[K    50% |################                | 8.5MB 11.7MB/s eta 0:00:01\u001b[K    50% |################                | 8.5MB 10.3MB/s eta 0:00:01\u001b[K    51% |################                | 8.5MB 9.1MB/s eta 0:00:01\u001b[K    51% |################                | 8.6MB 8.6MB/s eta 0:00:01\u001b[K    51% |################                | 8.6MB 7.5MB/s eta 0:00:02\u001b[K    51% |################                | 8.6MB 8.6MB/s eta 0:00:01\u001b[K    51% |################                | 8.6MB 7.1MB/s eta 0:00:02\u001b[K    51% |################                | 8.6MB 8.1MB/s eta 0:00:01\u001b[K    51% |################                | 8.7MB 8.2MB/s eta 0:00:01\u001b[K    52% |################                | 8.7MB 8.4MB/s eta 0:00:01\u001b[K    52% |################                | 8.7MB 5.9MB/s eta 0:00:02\u001b[K    52% |################                | 8.7MB 6.4MB/s eta 0:00:02\u001b[K    52% |################                | 8.7MB 6.0MB/s eta 0:00:02\u001b[K    52% |################                | 8.8MB 5.9MB/s eta 0:00:02\u001b[K    52% |################                | 8.8MB 5.5MB/s eta 0:00:02\u001b[K    52% |################                | 8.8MB 7.3MB/s eta 0:00:02\u001b[K    52% |################                | 8.8MB 7.6MB/s eta 0:00:02\u001b[K    52% |################                | 8.8MB 7.6MB/s eta 0:00:02\u001b[K    53% |################                | 8.9MB 7.0MB/s eta 0:00:02\u001b[K    53% |#################               | 8.9MB 7.5MB/s eta 0:00:02\u001b[K    53% |#################               | 8.9MB 7.9MB/s eta 0:00:01\u001b[K    53% |#################               | 8.9MB 8.2MB/s eta 0:00:01\u001b[K    53% |#################               | 8.9MB 7.4MB/s eta 0:00:02\u001b[K    53% |#################               | 9.0MB 8.7MB/s eta 0:00:01\u001b[K    53% |#################               | 9.0MB 8.5MB/s eta 0:00:01\u001b[K    53% |#################               | 9.0MB 8.6MB/s eta 0:00:01\u001b[K    54% |#################               | 9.0MB 7.3MB/s eta 0:00:02\u001b[K    54% |#################               | 9.1MB 8.3MB/s eta 0:00:01\u001b[K    54% |#################               | 9.1MB 8.1MB/s eta 0:00:01\u001b[K    54% |#################               | 9.1MB 7.1MB/s eta 0:00:02\u001b[K    54% |#################               | 9.1MB 5.2MB/s eta 0:00:02\u001b[K    54% |#################               | 9.1MB 5.6MB/s eta 0:00:02\u001b[K    54% |#################               | 9.2MB 5.9MB/s eta 0:00:02\u001b[K    54% |#################               | 9.2MB 5.9MB/s eta 0:00:02\u001b[K    55% |#################               | 9.2MB 6.0MB/s eta 0:00:02\u001b[K    55% |#################               | 9.2MB 7.9MB/s eta 0:00:01\u001b[K    55% |#################               | 9.2MB 7.7MB/s eta 0:00:01\u001b[K    55% |#################               | 9.3MB 7.8MB/s eta 0:00:01\u001b[K    55% |#################               | 9.3MB 7.1MB/s eta 0:00:02\u001b[K    55% |#################               | 9.3MB 8.0MB/s eta 0:00:01\u001b[K    55% |#################               | 9.3MB 8.2MB/s eta 0:00:01\u001b[K    55% |#################               | 9.3MB 9.2MB/s eta 0:00:01\u001b[K    56% |#################               | 9.4MB 7.3MB/s eta 0:00:01\u001b[K    56% |#################               | 9.4MB 8.5MB/s eta 0:00:01\u001b[K    56% |##################              | 9.4MB 8.9MB/s eta 0:00:01\u001b[K    56% |##################              | 9.4MB 8.5MB/s eta 0:00:01\u001b[K    56% |##################              | 9.4MB 7.5MB/s eta 0:00:01\u001b[K    56% |##################              | 9.5MB 8.3MB/s eta 0:00:01\u001b[K    56% |##################              | 9.5MB 6.3MB/s eta 0:00:02\u001b[K    56% |##################              | 9.5MB 6.3MB/s eta 0:00:02\u001b[K    57% |##################              | 9.5MB 5.6MB/s eta 0:00:02\u001b[K    57% |##################              | 9.5MB 5.8MB/s eta 0:00:02\u001b[K    57% |##################              | 9.6MB 6.0MB/s eta 0:00:02\u001b[K    57% |##################              | 9.6MB 7.7MB/s eta 0:00:01\u001b[K    57% |##################              | 9.6MB 6.4MB/s eta 0:00:02\u001b[K    57% |##################              | 9.6MB 7.8MB/s eta 0:00:01\u001b[K    57% |##################              | 9.6MB 7.9MB/s eta 0:00:01\u001b[K    57% |##################              | 9.7MB 8.4MB/s eta 0:00:01\u001b[K    58% |##################              | 9.7MB 7.0MB/s eta 0:00:02\u001b[K    58% |##################              | 9.7MB 9.0MB/s eta 0:00:01\u001b[K    58% |##################              | 9.7MB 8.8MB/s eta 0:00:01\u001b[K    58% |##################              | 9.7MB 8.7MB/s eta 0:00:01\u001b[K    58% |##################              | 9.8MB 7.2MB/s eta 0:00:01\u001b[K    58% |##################              | 9.8MB 8.8MB/s eta 0:00:01\u001b[K    58% |##################              | 9.8MB 8.4MB/s eta 0:00:01\u001b[K    58% |##################              | 9.8MB 8.5MB/s eta 0:00:01\u001b[K    59% |##################              | 9.9MB 5.9MB/s eta 0:00:02\u001b[K    59% |##################              | 9.9MB 7.1MB/s eta 0:00:01\u001b[K    59% |##################              | 9.9MB 6.3MB/s eta 0:00:02\u001b[K    59% |##################              | 9.9MB 6.3MB/s eta 0:00:02\u001b[K    59% |###################             | 9.9MB 5.8MB/s eta 0:00:02\u001b[K    59% |###################             | 10.0MB 8.6MB/s eta 0:00:01\u001b[K    59% |###################             | 10.0MB 7.7MB/s eta 0:00:01\u001b[K    59% |###################             | 10.0MB 8.5MB/s eta 0:00:01\u001b[K    59% |###################             | 10.0MB 7.7MB/s eta 0:00:01\u001b[K    60% |###################             | 10.0MB 8.2MB/s eta 0:00:01\u001b[K    60% |###################             | 10.1MB 8.0MB/s eta 0:00:01\u001b[K    60% |###################             | 10.1MB 8.9MB/s eta 0:00:01\u001b[K    60% |###################             | 10.1MB 8.4MB/s eta 0:00:01\u001b[K    60% |###################             | 10.1MB 7.6MB/s eta 0:00:01\u001b[K    60% |###################             | 10.1MB 8.7MB/s eta 0:00:01\u001b[K    60% |###################             | 10.2MB 8.3MB/s eta 0:00:01\u001b[K    61% |###################             | 10.2MB 8.3MB/s eta 0:00:01\u001b[K    61% |###################             | 10.2MB 7.0MB/s eta 0:00:01\u001b[K    61% |###################             | 10.2MB 7.0MB/s eta 0:00:01\u001b[K    61% |###################             | 10.3MB 6.3MB/s eta 0:00:02\u001b[K    61% |###################             | 10.3MB 6.2MB/s eta 0:00:02\u001b[K    61% |###################             | 10.3MB 5.5MB/s eta 0:00:02\u001b[K    61% |###################             | 10.3MB 6.3MB/s eta 0:00:02\u001b[K    61% |###################             | 10.3MB 7.2MB/s eta 0:00:01\u001b[K    62% |###################             | 10.4MB 7.6MB/s eta 0:00:01\u001b[K    62% |###################             | 10.4MB 7.0MB/s eta 0:00:01\u001b[K    62% |###################             | 10.4MB 7.7MB/s eta 0:00:01\u001b[K    62% |###################             | 10.4MB 8.1MB/s eta 0:00:01\u001b[K    62% |###################             | 10.4MB 7.4MB/s eta 0:00:01\u001b[K    62% |####################            | 10.5MB 6.8MB/s eta 0:00:01\u001b[K    62% |####################            | 10.5MB 7.9MB/s eta 0:00:01\u001b[K    62% |####################            | 10.5MB 7.7MB/s eta 0:00:01\u001b[K    63% |####################            | 10.5MB 8.5MB/s eta 0:00:01\u001b[K    63% |####################            | 10.5MB 8.2MB/s eta 0:00:01\u001b[K    63% |####################            | 10.6MB 9.3MB/s eta 0:00:01\u001b[K    63% |####################            | 10.6MB 7.6MB/s eta 0:00:01\u001b[K    63% |####################            | 10.6MB 8.3MB/s eta 0:00:01\u001b[K    63% |####################            | 10.6MB 8.1MB/s eta 0:00:01\u001b[K    63% |####################            | 10.6MB 7.2MB/s eta 0:00:01\u001b[K    63% |####################            | 10.7MB 5.8MB/s eta 0:00:02\u001b[K    64% |####################            | 10.7MB 6.5MB/s eta 0:00:01\u001b[K    64% |####################            | 10.7MB 6.4MB/s eta 0:00:01\u001b[K    64% |####################            | 10.7MB 6.3MB/s eta 0:00:01\u001b[K    64% |####################            | 10.8MB 6.6MB/s eta 0:00:01\u001b[K    64% |####################            | 10.8MB 7.8MB/s eta 0:00:01\u001b[K    64% |####################            | 10.8MB 7.4MB/s eta 0:00:01\u001b[K    64% |####################            | 10.8MB 7.5MB/s eta 0:00:01\u001b[K    64% |####################            | 10.8MB 7.0MB/s eta 0:00:01\u001b[K    65% |####################            | 10.9MB 6.6MB/s eta 0:00:01\u001b[K    65% |####################            | 10.9MB 8.2MB/s eta 0:00:01\u001b[K    65% |####################            | 10.9MB 9.0MB/s eta 0:00:01\u001b[K    65% |####################            | 10.9MB 8.6MB/s eta 0:00:01\u001b[K    65% |####################            | 10.9MB 7.3MB/s eta 0:00:01\u001b[K    65% |#####################           | 11.0MB 9.2MB/s eta 0:00:01\u001b[K    65% |#####################           | 11.0MB 8.9MB/s eta 0:00:01\u001b[K    65% |#####################           | 11.0MB 8.2MB/s eta 0:00:01\u001b[K    66% |#####################           | 11.0MB 6.3MB/s eta 0:00:01\u001b[K    66% |#####################           | 11.0MB 6.9MB/s eta 0:00:01\u001b[K    66% |#####################           | 11.1MB 6.5MB/s eta 0:00:01\u001b[K    66% |#####################           | 11.1MB 6.5MB/s eta 0:00:01\u001b[K    66% |#####################           | 11.1MB 6.0MB/s eta 0:00:01\u001b[K    66% |#####################           | 11.1MB 7.9MB/s eta 0:00:01\u001b[K    66% |#####################           | 11.2MB 8.4MB/s eta 0:00:01\u001b[K    66% |#####################           | 11.2MB 8.4MB/s eta 0:00:01\u001b[K    67% |#####################           | 11.2MB 7.4MB/s eta 0:00:01\u001b[K    67% |#####################           | 11.2MB 8.1MB/s eta 0:00:01\u001b[K    67% |#####################           | 11.2MB 8.2MB/s eta 0:00:01\u001b[K    67% |#####################           | 11.3MB 8.2MB/s eta 0:00:01\u001b[K    67% |#####################           | 11.3MB 6.7MB/s eta 0:00:01\u001b[K    67% |#####################           | 11.3MB 7.8MB/s eta 0:00:01\u001b[K    67% |#####################           | 11.3MB 8.3MB/s eta 0:00:01\u001b[K    67% |#####################           | 11.3MB 8.0MB/s eta 0:00:01\u001b[K    68% |#####################           | 11.4MB 7.1MB/s eta 0:00:01\u001b[K    68% |#####################           | 11.4MB 9.1MB/s eta 0:00:01\u001b[K    68% |#####################           | 11.4MB 9.1MB/s eta 0:00:01\u001b[K    68% |#####################           | 11.4MB 8.6MB/s eta 0:00:01\u001b[K    68% |#####################           | 11.4MB 7.5MB/s eta 0:00:01\u001b[K    68% |#####################           | 11.5MB 7.8MB/s eta 0:00:01\u001b[K    68% |######################          | 11.5MB 7.7MB/s eta 0:00:01\u001b[K    68% |######################          | 11.5MB 7.5MB/s eta 0:00:01\u001b[K    68% |######################          | 11.5MB 6.6MB/s eta 0:00:01\u001b[K    69% |######################          | 11.5MB 7.7MB/s eta 0:00:01\u001b[K    69% |######################          | 11.6MB 8.6MB/s eta 0:00:01\u001b[K    69% |######################          | 11.6MB 8.1MB/s eta 0:00:01\u001b[K    69% |######################          | 11.6MB 7.4MB/s eta 0:00:01\u001b[K    69% |######################          | 11.6MB 8.4MB/s eta 0:00:01\u001b[K    69% |######################          | 11.6MB 9.2MB/s eta 0:00:01\u001b[K    69% |######################          | 11.7MB 8.7MB/s eta 0:00:01\u001b[K    69% |######################          | 11.7MB 7.2MB/s eta 0:00:01\u001b[K    70% |######################          | 11.7MB 8.8MB/s eta 0:00:01\u001b[K    70% |######################          | 11.7MB 8.3MB/s eta 0:00:01\u001b[K    70% |######################          | 11.7MB 7.5MB/s eta 0:00:01\u001b[K    70% |######################          | 11.8MB 6.9MB/s eta 0:00:01\u001b[K    70% |######################          | 11.8MB 9.2MB/s eta 0:00:01\u001b[K    70% |######################          | 11.8MB 8.5MB/s eta 0:00:01\u001b[K    70% |######################          | 11.8MB 8.4MB/s eta 0:00:01\u001b[K    70% |######################          | 11.8MB 7.6MB/s eta 0:00:01\u001b[K    71% |######################          | 11.9MB 8.4MB/s eta 0:00:01\u001b[K    71% |######################          | 11.9MB 7.5MB/s eta 0:00:01\u001b[K    71% |######################          | 11.9MB 7.0MB/s eta 0:00:01\u001b[K    71% |######################          | 11.9MB 7.4MB/s eta 0:00:01\u001b[K    71% |######################          | 12.0MB 8.0MB/s eta 0:00:01\u001b[K    71% |######################          | 12.0MB 7.9MB/s eta 0:00:01\u001b[K    71% |######################          | 12.0MB 8.2MB/s eta 0:00:01\u001b[K    71% |#######################         | 12.0MB 7.8MB/s eta 0:00:01\u001b[K    72% |#######################         | 12.0MB 8.2MB/s eta 0:00:01\u001b[K    72% |#######################         | 12.1MB 7.2MB/s eta 0:00:01\u001b[K    72% |#######################         | 12.1MB 8.5MB/s eta 0:00:01\u001b[K    72% |#######################         | 12.1MB 7.9MB/s eta 0:00:01\u001b[K    72% |#######################         | 12.1MB 8.7MB/s eta 0:00:01\u001b[K    72% |#######################         | 12.1MB 7.1MB/s eta 0:00:01\u001b[K    72% |#######################         | 12.2MB 8.2MB/s eta 0:00:01\u001b[K    72% |#######################         | 12.2MB 8.2MB/s eta 0:00:01\u001b[K    73% |#######################         | 12.2MB 8.3MB/s eta 0:00:01\u001b[K    73% |#######################         | 12.2MB 6.9MB/s eta 0:00:01\u001b[K    73% |#######################         | 12.2MB 8.0MB/s eta 0:00:01\u001b[K    73% |#######################         | 12.3MB 7.5MB/s eta 0:00:01\u001b[K    73% |#######################         | 12.3MB 8.0MB/s eta 0:00:01\u001b[K    73% |#######################         | 12.3MB 6.4MB/s eta 0:00:01\u001b[K    73% |#######################         | 12.3MB 7.5MB/s eta 0:00:01\u001b[K    73% |#######################         | 12.3MB 8.1MB/s eta 0:00:01\u001b[K    74% |#######################         | 12.4MB 8.9MB/s eta 0:00:01\u001b[K    74% |#######################         | 12.4MB 7.0MB/s eta 0:00:01\u001b[K    74% |#######################         | 12.4MB 9.2MB/s eta 0:00:01\u001b[K    74% |#######################         | 12.4MB 9.2MB/s eta 0:00:01\u001b[K    74% |#######################         | 12.5MB 8.5MB/s eta 0:00:01\u001b[K    74% |#######################         | 12.5MB 7.4MB/s eta 0:00:01\u001b[K    74% |#######################         | 12.5MB 9.1MB/s eta 0:00:01\u001b[K    74% |#######################         | 12.5MB 8.6MB/s eta 0:00:01\u001b[K    75% |########################        | 12.5MB 8.7MB/s eta 0:00:01\u001b[K    75% |########################        | 12.6MB 6.9MB/s eta 0:00:01\u001b[K    75% |########################        | 12.6MB 7.7MB/s eta 0:00:01\u001b[K    75% |########################        | 12.6MB 7.5MB/s eta 0:00:01\u001b[K    75% |########################        | 12.6MB 8.1MB/s eta 0:00:01\u001b[K    75% |########################        | 12.6MB 6.9MB/s eta 0:00:01\u001b[K    75% |########################        | 12.7MB 7.9MB/s eta 0:00:01\u001b[K    75% |########################        | 12.7MB 8.1MB/s eta 0:00:01\u001b[K    76% |########################        | 12.7MB 8.1MB/s eta 0:00:01\u001b[K    76% |########################        | 12.7MB 6.4MB/s eta 0:00:01\u001b[K    76% |########################        | 12.7MB 6.8MB/s eta 0:00:01\u001b[K    76% |########################        | 12.8MB 8.3MB/s eta 0:00:01\u001b[K    76% |########################        | 12.8MB 8.0MB/s eta 0:00:01\u001b[K    76% |########################        | 12.8MB 6.8MB/s eta 0:00:01\u001b[K    76% |########################        | 12.8MB 8.9MB/s eta 0:00:01\u001b[K    76% |########################        | 12.8MB 9.5MB/s eta 0:00:01\u001b[K    77% |########################        | 12.9MB 8.6MB/s eta 0:00:01\u001b[K    77% |########################        | 12.9MB 7.1MB/s eta 0:00:01\u001b[K    77% |########################        | 12.9MB 9.3MB/s eta 0:00:01\u001b[K    77% |########################        | 12.9MB 8.6MB/s eta 0:00:01\u001b[K    77% |########################        | 12.9MB 8.2MB/s eta 0:00:01\u001b[K    77% |########################        | 13.0MB 7.3MB/s eta 0:00:01\u001b[K    77% |########################        | 13.0MB 9.0MB/s eta 0:00:01\u001b[K    77% |########################        | 13.0MB 7.7MB/s eta 0:00:01\u001b[K    78% |########################        | 13.0MB 7.7MB/s eta 0:00:01\u001b[K    78% |#########################       | 13.0MB 7.8MB/s eta 0:00:01\u001b[K    78% |#########################       | 13.1MB 8.4MB/s eta 0:00:01\u001b[K    78% |#########################       | 13.1MB 8.1MB/s eta 0:00:01\u001b[K    78% |#########################       | 13.1MB 9.0MB/s eta 0:00:01\u001b[K    78% |#########################       | 13.1MB 7.0MB/s eta 0:00:01\u001b[K    78% |#########################       | 13.1MB 7.1MB/s eta 0:00:01\u001b[K    78% |#########################       | 13.2MB 7.4MB/s eta 0:00:01\u001b[K    78% |#########################       | 13.2MB 7.6MB/s eta 0:00:01\u001b[K    79% |#########################       | 13.2MB 6.6MB/s eta 0:00:01\u001b[K    79% |#########################       | 13.2MB 8.4MB/s eta 0:00:01\u001b[K    79% |#########################       | 13.3MB 8.7MB/s eta 0:00:01\u001b[K    79% |#########################       | 13.3MB 9.4MB/s eta 0:00:01\u001b[K    79% |#########################       | 13.3MB 7.8MB/s eta 0:00:01\u001b[K    79% |#########################       | 13.3MB 8.8MB/s eta 0:00:01\u001b[K    79% |#########################       | 13.3MB 9.2MB/s eta 0:00:01\u001b[K    79% |#########################       | 13.4MB 9.0MB/s eta 0:00:01\u001b[K    80% |#########################       | 13.4MB 7.0MB/s eta 0:00:01\u001b[K    80% |#########################       | 13.4MB 8.6MB/s eta 0:00:01\u001b[K    80% |#########################       | 13.4MB 8.5MB/s eta 0:00:01\u001b[K    80% |#########################       | 13.4MB 7.6MB/s eta 0:00:01\u001b[K    80% |#########################       | 13.5MB 7.1MB/s eta 0:00:01\u001b[K    80% |#########################       | 13.5MB 8.7MB/s eta 0:00:01\u001b[K    80% |#########################       | 13.5MB 7.9MB/s eta 0:00:01\u001b[K    80% |#########################       | 13.5MB 8.0MB/s eta 0:00:01\u001b[K    81% |#########################       | 13.5MB 6.6MB/s eta 0:00:01\u001b[K    81% |#########################       | 13.6MB 6.9MB/s eta 0:00:01\u001b[K    81% |##########################      | 13.6MB 6.9MB/s eta 0:00:01\u001b[K    81% |##########################      | 13.6MB 7.4MB/s eta 0:00:01\u001b[K    81% |##########################      | 13.6MB 6.5MB/s eta 0:00:01\u001b[K    81% |##########################      | 13.6MB 8.5MB/s eta 0:00:01\u001b[K    81% |##########################      | 13.7MB 9.2MB/s eta 0:00:01\u001b[K    81% |##########################      | 13.7MB 9.1MB/s eta 0:00:01\u001b[K    82% |##########################      | 13.7MB 7.7MB/s eta 0:00:01\u001b[K    82% |##########################      | 13.7MB 8.4MB/s eta 0:00:01\u001b[K    82% |##########################      | 13.7MB 8.3MB/s eta 0:00:01\u001b[K    82% |##########################      | 13.8MB 8.8MB/s eta 0:00:01\u001b[K    82% |##########################      | 13.8MB 7.5MB/s eta 0:00:01\u001b[K    82% |##########################      | 13.8MB 8.5MB/s eta 0:00:01\u001b[K    82% |##########################      | 13.8MB 8.6MB/s eta 0:00:01\u001b[K    82% |##########################      | 13.8MB 7.5MB/s eta 0:00:01\u001b[K    83% |##########################      | 13.9MB 6.8MB/s eta 0:00:01\u001b[K    83% |##########################      | 13.9MB 8.1MB/s eta 0:00:01\u001b[K    83% |##########################      | 13.9MB 7.5MB/s eta 0:00:01\u001b[K    83% |##########################      | 13.9MB 7.5MB/s eta 0:00:01\u001b[K    83% |##########################      | 13.9MB 6.6MB/s eta 0:00:01\u001b[K    83% |##########################      | 14.0MB 6.5MB/s eta 0:00:01\u001b[K    83% |##########################      | 14.0MB 6.5MB/s eta 0:00:01\u001b[K    83% |##########################      | 14.0MB 7.1MB/s eta 0:00:01\u001b[K    84% |##########################      | 14.0MB 6.7MB/s eta 0:00:01\u001b[K    84% |##########################      | 14.0MB 8.5MB/s eta 0:00:01\u001b[K    84% |##########################      | 14.1MB 8.8MB/s eta 0:00:01\u001b[K    84% |###########################     | 14.1MB 9.9MB/s eta 0:00:01\u001b[K    84% |###########################     | 14.1MB 7.8MB/s eta 0:00:01\u001b[K    84% |###########################     | 14.1MB 8.9MB/s eta 0:00:01\u001b[K    84% |###########################     | 14.2MB 9.6MB/s eta 0:00:01\u001b[K    84% |###########################     | 14.2MB 9.3MB/s eta 0:00:01\u001b[K    85% |###########################     | 14.2MB 7.3MB/s eta 0:00:01\u001b[K    85% |###########################     | 14.2MB 8.3MB/s eta 0:00:01\u001b[K    85% |###########################     | 14.2MB 7.7MB/s eta 0:00:01\u001b[K    85% |###########################     | 14.3MB 6.9MB/s eta 0:00:01\u001b[K    85% |###########################     | 14.3MB 6.5MB/s eta 0:00:01\u001b[K    85% |###########################     | 14.3MB 7.7MB/s eta 0:00:01\u001b[K    85% |###########################     | 14.3MB 8.0MB/s eta 0:00:01\u001b[K    85% |###########################     | 14.3MB 8.4MB/s eta 0:00:01\u001b[K    85% |###########################     | 14.4MB 7.7MB/s eta 0:00:01\u001b[K    86% |###########################     | 14.4MB 6.9MB/s eta 0:00:01\u001b[K    86% |###########################     | 14.4MB 6.6MB/s eta 0:00:01\u001b[K    86% |###########################     | 14.4MB 6.3MB/s eta 0:00:01\u001b[K    86% |###########################     | 14.4MB 6.0MB/s eta 0:00:01\u001b[K    86% |###########################     | 14.5MB 6.0MB/s eta 0:00:01\u001b[K    86% |###########################     | 14.5MB 9.1MB/s eta 0:00:01\u001b[K    86% |###########################     | 14.5MB 8.7MB/s eta 0:00:01\u001b[K    87% |###########################     | 14.5MB 9.0MB/s eta 0:00:01\u001b[K    87% |###########################     | 14.6MB 8.1MB/s eta 0:00:01\u001b[K    87% |###########################     | 14.6MB 9.6MB/s eta 0:00:01\u001b[K    87% |###########################     | 14.6MB 8.9MB/s eta 0:00:01\u001b[K    87% |############################    | 14.6MB 9.5MB/s eta 0:00:01\u001b[K    87% |############################    | 14.6MB 8.2MB/s eta 0:00:01\u001b[K    87% |############################    | 14.7MB 9.2MB/s eta 0:00:01\u001b[K    87% |############################    | 14.7MB 8.3MB/s eta 0:00:01\u001b[K    88% |############################    | 14.7MB 8.6MB/s eta 0:00:01\u001b[K    88% |############################    | 14.7MB 7.7MB/s eta 0:00:01\u001b[K    88% |############################    | 14.7MB 8.2MB/s eta 0:00:01\u001b[K    88% |############################    | 14.8MB 8.5MB/s eta 0:00:01\u001b[K    88% |############################    | 14.8MB 8.8MB/s eta 0:00:01\u001b[K    88% |############################    | 14.8MB 5.7MB/s eta 0:00:01\u001b[K    88% |############################    | 14.8MB 6.5MB/s eta 0:00:01\u001b[K    88% |############################    | 14.8MB 6.3MB/s eta 0:00:01\u001b[K    88% |############################    | 14.9MB 6.0MB/s eta 0:00:01\u001b[K    89% |############################    | 14.9MB 5.8MB/s eta 0:00:01\u001b[K    89% |############################    | 14.9MB 8.8MB/s eta 0:00:01\u001b[K    89% |############################    | 14.9MB 8.5MB/s eta 0:00:01\u001b[K    89% |############################    | 14.9MB 8.2MB/s eta 0:00:01\u001b[K    89% |############################    | 15.0MB 7.7MB/s eta 0:00:01\u001b[K    89% |############################    | 15.0MB 8.5MB/s eta 0:00:01\u001b[K    89% |############################    | 15.0MB 8.5MB/s eta 0:00:01\u001b[K    89% |############################    | 15.0MB 7.9MB/s eta 0:00:01\u001b[K    90% |############################    | 15.0MB 8.2MB/s eta 0:00:01\u001b[K    90% |############################    | 15.1MB 9.0MB/s eta 0:00:01\u001b[K    90% |############################    | 15.1MB 8.7MB/s eta 0:00:01\u001b[K    90% |############################    | 15.1MB 8.3MB/s eta 0:00:01\u001b[K    90% |############################    | 15.1MB 8.4MB/s eta 0:00:01\u001b[K    90% |#############################   | 15.1MB 8.2MB/s eta 0:00:01\u001b[K    90% |#############################   | 15.2MB 8.2MB/s eta 0:00:01\u001b[K    90% |#############################   | 15.2MB 9.0MB/s eta 0:00:01\u001b[K    91% |#############################   | 15.2MB 6.2MB/s eta 0:00:01\u001b[K    91% |#############################   | 15.2MB 5.6MB/s eta 0:00:01\u001b[K    91% |#############################   | 15.3MB 5.6MB/s eta 0:00:01\u001b[K    91% |#############################   | 15.3MB 5.5MB/s eta 0:00:01\u001b[K    91% |#############################   | 15.3MB 5.5MB/s eta 0:00:01\u001b[K    91% |#############################   | 15.3MB 6.9MB/s eta 0:00:01\u001b[K    91% |#############################   | 15.3MB 7.5MB/s eta 0:00:01\u001b[K    91% |#############################   | 15.4MB 7.8MB/s eta 0:00:01\u001b[K    92% |#############################   | 15.4MB 8.4MB/s eta 0:00:01\u001b[K    92% |#############################   | 15.4MB 8.6MB/s eta 0:00:01\u001b[K    92% |#############################   | 15.4MB 7.8MB/s eta 0:00:01\u001b[K    92% |#############################   | 15.4MB 8.4MB/s eta 0:00:01\u001b[K    92% |#############################   | 15.5MB 8.6MB/s eta 0:00:01\u001b[K    92% |#############################   | 15.5MB 9.4MB/s eta 0:00:01\u001b[K    92% |#############################   | 15.5MB 8.2MB/s eta 0:00:01\u001b[K    92% |#############################   | 15.5MB 9.2MB/s eta 0:00:01\u001b[K    93% |#############################   | 15.5MB 8.9MB/s eta 0:00:01\u001b[K    93% |#############################   | 15.6MB 9.0MB/s eta 0:00:01\u001b[K    93% |#############################   | 15.6MB 7.4MB/s eta 0:00:01\u001b[K    93% |#############################   | 15.6MB 8.7MB/s eta 0:00:01\u001b[K    93% |#############################   | 15.6MB 8.5MB/s eta 0:00:01\u001b[K    93% |#############################   | 15.6MB 8.9MB/s eta 0:00:01\u001b[K    93% |##############################  | 15.7MB 5.7MB/s eta 0:00:01\u001b[K    93% |##############################  | 15.7MB 6.2MB/s eta 0:00:01\u001b[K    94% |##############################  | 15.7MB 5.6MB/s eta 0:00:01\u001b[K    94% |##############################  | 15.7MB 5.8MB/s eta 0:00:01\u001b[K    94% |##############################  | 15.7MB 5.1MB/s eta 0:00:01\u001b[K    94% |##############################  | 15.8MB 8.3MB/s eta 0:00:01\u001b[K    94% |##############################  | 15.8MB 8.3MB/s eta 0:00:01\u001b[K    94% |##############################  | 15.8MB 9.3MB/s eta 0:00:01\u001b[K    94% |##############################  | 15.8MB 7.7MB/s eta 0:00:01\u001b[K    94% |##############################  | 15.9MB 9.0MB/s eta 0:00:01\u001b[K    95% |##############################  | 15.9MB 8.6MB/s eta 0:00:01\u001b[K    95% |##############################  | 15.9MB 8.5MB/s eta 0:00:01\u001b[K    95% |##############################  | 15.9MB 7.4MB/s eta 0:00:01\u001b[K    95% |##############################  | 15.9MB 8.8MB/s eta 0:00:01\u001b[K    95% |##############################  | 16.0MB 8.8MB/s eta 0:00:01\u001b[K    95% |##############################  | 16.0MB 8.5MB/s eta 0:00:01\u001b[K    95% |##############################  | 16.0MB 7.7MB/s eta 0:00:01\u001b[K    95% |##############################  | 16.0MB 1.5MB/s eta 0:00:01\u001b[K    96% |##############################  | 16.0MB 1.6MB/s eta 0:00:01\u001b[K    96% |##############################  | 16.1MB 1.6MB/s eta 0:00:01\u001b[K    96% |##############################  | 16.1MB 1.7MB/s eta 0:00:01\u001b[K    96% |##############################  | 16.1MB 1.7MB/s eta 0:00:01\u001b[K    96% |##############################  | 16.1MB 54.5MB/s eta 0:00:01\u001b[K    96% |##############################  | 16.1MB 56.5MB/s eta 0:00:01\u001b[K    96% |##############################  | 16.2MB 57.5MB/s eta 0:00:01\u001b[K    96% |############################### | 16.2MB 56.7MB/s eta 0:00:01\u001b[K    97% |############################### | 16.2MB 57.3MB/s eta 0:00:01\u001b[K    97% |############################### | 16.2MB 58.3MB/s eta 0:00:01\u001b[K    97% |############################### | 16.3MB 58.3MB/s eta 0:00:01\u001b[K    97% |############################### | 16.3MB 55.8MB/s eta 0:00:01\u001b[K    97% |############################### | 16.3MB 57.4MB/s eta 0:00:01\u001b[K    97% |############################### | 16.3MB 58.5MB/s eta 0:00:01\u001b[K    97% |############################### | 16.3MB 57.3MB/s eta 0:00:01\u001b[K    97% |############################### | 16.4MB 56.4MB/s eta 0:00:01\u001b[K    98% |############################### | 16.4MB 57.7MB/s eta 0:00:01\u001b[K    98% |############################### | 16.4MB 57.8MB/s eta 0:00:01\u001b[K    98% |############################### | 16.4MB 58.5MB/s eta 0:00:01\u001b[K    98% |############################### | 16.4MB 57.4MB/s eta 0:00:01\u001b[K    98% |############################### | 16.5MB 58.5MB/s eta 0:00:01\u001b[K    98% |############################### | 16.5MB 61.2MB/s eta 0:00:01\u001b[K    98% |############################### | 16.5MB 14.3MB/s eta 0:00:01\u001b[K    98% |############################### | 16.5MB 7.4MB/s eta 0:00:01\u001b[K    99% |############################### | 16.5MB 6.5MB/s eta 0:00:01\u001b[K    99% |############################### | 16.6MB 5.7MB/s eta 0:00:01\u001b[K    99% |############################### | 16.6MB 4.9MB/s eta 0:00:01\u001b[K    99% |############################### | 16.6MB 4.9MB/s eta 0:00:01\u001b[K    99% |############################### | 16.6MB 6.0MB/s eta 0:00:01\u001b[K    99% |############################### | 16.6MB 5.9MB/s eta 0:00:01\u001b[K    99% |############################### | 16.7MB 5.8MB/s eta 0:00:01\u001b[K    99% |############################### | 16.7MB 5.5MB/s eta 0:00:01\n",
      "\u001b[?25hRequirement already satisfied: pytz>=2011k in /usr/local/lib/python2.7/dist-packages (from pandas)\n",
      "Requirement already satisfied: python-dateutil in /usr/local/lib/python2.7/dist-packages (from pandas)\n",
      "Requirement already satisfied: numpy>=1.7.0 in /usr/local/lib/python2.7/dist-packages (from pandas)\n",
      "Requirement already satisfied: six>=1.5 in /usr/local/lib/python2.7/dist-packages (from python-dateutil->pandas)\n",
      "Installing collected packages: pandas\n",
      "Successfully installed pandas-0.19.1\n",
      "/usr/local/lib/python2.7/dist-packages/pip/_vendor/requests/packages/urllib3/util/ssl_.py:122: InsecurePlatformWarning: A true SSLContext object is not available. This prevents urllib3 from configuring SSL appropriately and may cause certain SSL connections to fail. You can upgrade to a newer version of Python to solve this. For more information, see https://urllib3.readthedocs.io/en/latest/security.html#insecureplatformwarning.\n",
      "  InsecurePlatformWarning\n"
     ]
    }
   ],
   "source": [
    "'''You can even install a python package ! - although it is not recommanded'''\n",
    "! pip install pandas"
   ]
  },
  {
   "cell_type": "markdown",
   "metadata": {},
   "source": [
    "## 2.3. Magic Commands\n",
    "* Jupyter-specific command that performs special functions\n",
    "* Starts with `%` (**line magic**) or `%%` (**cell magic**)"
   ]
  },
  {
   "cell_type": "markdown",
   "metadata": {},
   "source": [
    "### Enable In-line Plotting\n",
    "* Matplotlib plots will show up in the notebook  \n",
    "``` % matplotlib inline ```"
   ]
  },
  {
   "cell_type": "code",
   "execution_count": 1,
   "metadata": {
    "collapsed": false
   },
   "outputs": [
    {
     "data": {
      "text/plain": [
       "[<matplotlib.lines.Line2D at 0x7ff6ccfcf490>]"
      ]
     },
     "execution_count": 1,
     "metadata": {},
     "output_type": "execute_result"
    },
    {
     "data": {
      "image/png": "[encoded data removed]",
      "text/plain": [
       "<matplotlib.figure.Figure at 0x7ff6cf361990>"
      ]
     },
     "metadata": {},
     "output_type": "display_data"
    }
   ],
   "source": [
    "import numpy as np\n",
    "import matplotlib.pyplot as plt\n",
    "% matplotlib inline\n",
    "\n",
    "plt.plot(np.random.randn(5))"
   ]
  },
  {
   "cell_type": "markdown",
   "metadata": {},
   "source": [
    "### Measuring execution time\n",
    "* ```%time ``` measures the execution time of the next line \n",
    "\n",
    "```\n",
    "%time np.arange(1000).sum()\n",
    "```\n",
    "\n",
    "* ```%%timeit``` measures the execution time of the cell, with the **repeated experiment**\n",
    "    * You can even pass the parameters -- consult the documentation  \n",
    "    \n",
    "```\n",
    "%%timeit np.arange(1000).sum()\n",
    "```"
   ]
  },
  {
   "cell_type": "code",
   "execution_count": 5,
   "metadata": {
    "collapsed": false
   },
   "outputs": [
    {
     "name": "stdout",
     "output_type": "stream",
     "text": [
      "CPU times: user 3 µs, sys: 2 µs, total: 5 µs\n",
      "Wall time: 9.06 µs\n"
     ]
    },
    {
     "data": {
      "text/plain": [
       "4950"
      ]
     },
     "execution_count": 5,
     "metadata": {},
     "output_type": "execute_result"
    }
   ],
   "source": [
    "%time\n",
    "np.arange(100).sum()"
   ]
  },
  {
   "cell_type": "code",
   "execution_count": 4,
   "metadata": {
    "collapsed": false
   },
   "outputs": [
    {
     "name": "stdout",
     "output_type": "stream",
     "text": [
      "1000 loops, best of 3: 5.81 µs per loop\n"
     ]
    }
   ],
   "source": [
    "%%timeit -n 1000\n",
    "np.arange(100).sum()"
   ]
  },
  {
   "cell_type": "markdown",
   "metadata": {},
   "source": [
    "### HTML and LATEX cells\n",
    "* with ** %%latex**, the cell becomes a latex document. (well, of course the functionality is limited)"
   ]
  },
  {
   "cell_type": "code",
   "execution_count": 14,
   "metadata": {
    "collapsed": false
   },
   "outputs": [
    {
     "data": {
      "text/latex": [
       "\\begin{equation}\n",
       "\\mathbf{b} = \\mathbf{a}+1\n",
       "\\end{equation}"
      ],
      "text/plain": [
       "<IPython.core.display.Latex object>"
      ]
     },
     "metadata": {},
     "output_type": "display_data"
    }
   ],
   "source": [
    "%%latex\n",
    "\\begin{equation}\n",
    "\\mathbf{b} = \\mathbf{a}+1\n",
    "\\end{equation}"
   ]
  },
  {
   "cell_type": "markdown",
   "metadata": {},
   "source": [
    "* with ** %%HTML ** (or **%%html**), the cell renders a HTML document\n",
    "    * **This means you can run a JavaScript in a notebook!**"
   ]
  },
  {
   "cell_type": "code",
   "execution_count": 15,
   "metadata": {
    "collapsed": false
   },
   "outputs": [
    {
     "data": {
      "text/html": [
       "<ul>\n",
       "<li>asdf</li>\n",
       "</ul>"
      ],
      "text/plain": [
       "<IPython.core.display.HTML object>"
      ]
     },
     "metadata": {},
     "output_type": "display_data"
    }
   ],
   "source": [
    "%%HTML\n",
    "<ul>\n",
    "<li>asdf</li>\n",
    "</ul>"
   ]
  },
  {
   "cell_type": "markdown",
   "metadata": {},
   "source": [
    "# 3. Interactive Visualization  \n",
    "* The instant inline visulazation of matplotlib figures is already awesome."
   ]
  },
  {
   "cell_type": "code",
   "execution_count": 2,
   "metadata": {
    "collapsed": false
   },
   "outputs": [
    {
     "data": {
      "text/plain": [
       "[<matplotlib.lines.Line2D at 0x7ff7092fe210>]"
      ]
     },
     "execution_count": 2,
     "metadata": {},
     "output_type": "execute_result"
    },
    {
     "data": {
      "image/png": "[encoded data removed]",
      "text/plain": [
       "<matplotlib.figure.Figure at 0x7ff6cd00a290>"
      ]
     },
     "metadata": {},
     "output_type": "display_data"
    }
   ],
   "source": [
    "a = 1.\n",
    "x = np.linspace(1,7,100)\n",
    "y = np.sin(a*x)\n",
    "plt.plot(x, y, 'r')"
   ]
  },
  {
   "cell_type": "markdown",
   "metadata": {},
   "source": [
    "* However, **interactive visualization** is even cooler!"
   ]
  },
  {
   "cell_type": "code",
   "execution_count": 3,
   "metadata": {
    "collapsed": false
   },
   "outputs": [
    {
     "data": {
      "image/png": "[encoded data removed]",
      "text/plain": [
       "<matplotlib.figure.Figure at 0x7ff6cc9f5310>"
      ]
     },
     "metadata": {},
     "output_type": "display_data"
    }
   ],
   "source": [
    "def sin_wave(a):\n",
    "    x = np.linspace(1,7,100)\n",
    "    y = np.sin(a*x)\n",
    "    plt.plot(x, y, 'r')\n",
    "    \n",
    "from ipywidgets import interact\n",
    "interact(sin_wave, a=(0.5,5.))"
   ]
  },
  {
   "cell_type": "markdown",
   "metadata": {},
   "source": [
    "* the detailed documentation of **ipywidgets** can be found [here](https://github.com/ipython/ipywidgets/tree/4125106938769dcb2bd345f3f214e10302ed6f1b)"
   ]
  },
  {
   "cell_type": "markdown",
   "metadata": {
    "collapsed": true
   },
   "source": [
    "# 4. The Lifecycle of Jupyter Notebook in Your Research\n",
    "1. Rapid prototyping\n",
    "    * You can test your idea really quick\n",
    "2. Serious computation\n",
    "    * You may pull it out depends on the situation\n",
    "3. Analyze the result\n",
    "    * Slice, merge, and plot the result to get insights\n",
    "4. Make it as a document\n",
    "    * ** YOU CAN PUBLISH YOUR JUPYTER NOTEBOOK !!! **\n",
    "        1. On the toolbar, __File > Download As > html__\n",
    "            * An immutable html file that can be shared independently\n",
    "        2. Push into [GitHub](https://github.com/) \n",
    "            * Github will render the notebook for you"
   ]
  },
  {
   "cell_type": "markdown",
   "metadata": {},
   "source": [
    "# Take Home Messages  \n",
    "When you use **Jupyter Notebook**, you can\n",
    "\n",
    "1. fascilitate the cycle of trial-and-error\n",
    "2. analyze the data interactively\n",
    "3. share your result in an intuitive and reproducible way\n",
    "\n",
    "So use Jupyter Notebook whenever it's possible :)"
   ]
  },
  {
   "cell_type": "code",
   "execution_count": 26,
   "metadata": {
    "collapsed": false
   },
   "outputs": [
    {
     "name": "stdout",
     "output_type": "stream",
     "text": [
      "Enabling notebook extension jupyter-js-widgets/extension...\r\n",
      "      - Validating: \u001b[32mOK\u001b[0m\r\n"
     ]
    }
   ],
   "source": [
    "! jupyter nbextension enable --py --sys-prefix widgetsnbextension"
   ]
  }
 ],
 "metadata": {
  "kernelspec": {
   "display_name": "Python 2",
   "language": "python",
   "name": "python2"
  },
  "language_info": {
   "codemirror_mode": {
    "name": "ipython",
    "version": 2
   },
   "file_extension": ".py",
   "mimetype": "text/x-python",
   "name": "python",
   "nbconvert_exporter": "python",
   "pygments_lexer": "ipython2",
   "version": "2.7.6"
  },
  "widgets": {
   "state": {
    "6e3be8ada34e4749b5fb6d9ac02791a4": {
     "views": [
      {
       "cell_index": 36
      }
     ]
    }
   },
   "version": "1.2.0"
  }
 },
 "nbformat": 4,
 "nbformat_minor": 2
}
