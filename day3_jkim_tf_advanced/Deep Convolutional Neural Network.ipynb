{
 "cells": [
  {
   "cell_type": "code",
   "execution_count": 1,
   "metadata": {
    "collapsed": false
   },
   "outputs": [
    {
     "name": "stdout",
     "output_type": "stream",
     "text": [
      "Populating the interactive namespace from numpy and matplotlib\n"
     ]
    }
   ],
   "source": [
    "import tensorflow as tf\n",
    "import numpy as np\n",
    "import matplotlib.pyplot as plt\n",
    "%pylab inline"
   ]
  },
  {
   "cell_type": "markdown",
   "metadata": {},
   "source": [
    "# Deep Convolutional Neural Network (Deep ConvNet)\n",
    "\n",
    "\n",
    "![convnet](http://benanne.github.io/images/architecture.png)\n",
    "* It is useful if and only if your data has a **topology** and has **local patterns**.\n",
    "* Same as the standard neural network except that...\n",
    "    * network **connections are sparse**.\n",
    "    * weight parameters are **shared** among all the locations. \n",
    "\n",
    "## Convolution Layer\n",
    "![conv](http://ufldl.stanford.edu/tutorial/images/Convolution_schematic.gif)\n",
    "* Convolution layer consists of **convolution operation** and **non-linear activation**.\n",
    "* Why convolution?\n",
    "* **Convolution is a linear operation**\n",
    "e.g., 1-D Convolution with single kernel:\n",
    "$$h = \\sigma (x \\tilde{w}+b)$$\n",
    "where $w$ is a kernel $w=(w_1,w_2,w_3)$ and $\\tilde{w}$ is the **toeplitz matrix** build from $w$: $\\tilde{w} = \\pmatrix{\n",
    "w_1 & 0   & 0   \\\\ \n",
    "w_2 & w_1 & 0   \\\\\n",
    "w_3 & w_2 & w_1 \\\\\n",
    "0   & w_3 & w_2 \\\\\n",
    "0   & 0   & w_3}$\n",
    "\n",
    "## Pooling Layer\n",
    "![pool](http://ufldl.stanford.edu/tutorial/images/Pooling_schematic.gif)\n",
    "* Pooling is an operation that **summarizes** neighboring nodes\n",
    "* By using pooling, **spatial resolution is lost** but the representation gets more **robust to the translation-noise**.\n",
    "* Also you get a representation with **reduced dimensionality**.\n",
    "* There are many pooling operations but **max-pooling** is used in most cases.\n",
    "\n",
    "## Fully-Connected Layer\n",
    "* If the spatial dimensions are moderately reduced, there is no reason to do convolution or pooling, so we use a fully-connected layer.\n",
    "* It is the same as the layers in standard neural network.\n"
   ]
  },
  {
   "cell_type": "markdown",
   "metadata": {
    "collapsed": false
   },
   "source": [
    "---\n",
    "## Implementation\n",
    "\n",
    "Now let's implement ConvNet in `tensorflow`!\n",
    "\n",
    "We use the structure:\n",
    "\n",
    "1. **CONV**: kernel(3x3x1x10) maps (Nx28x28x1) to (Nx26x26x10)\n",
    "1. **CONV**: kernel(3x3x10x10) maps (Nx26x26x10) to (Nx24x24x10)\n",
    "1. **POOL**: max-pool(2x2) maps (Nx24x24x10) to (Nx12x12x10)\n",
    "1. **CONV**: kernel(3x3x10x20) maps (Nx12x12x10) to (Nx10x10x20)\n",
    "1. **POOL**: max-pool(2x2) maps (Nx10x10x20) to (Nx5x5x20)\n",
    "1. **CONV**: kernel(3x3x20x20) maps (Nx5x5x20) to (Nx3x3x20)\n",
    "1. **FLAT**: flattening maps (Nx3x3x20) to (Nx180)\n",
    "1. **FULL**: weight(180x40) maps (Nx180) to (Nx40)\n",
    "1. **LogR**: weight(40x10) maps (Nx40) to (Nx10)\n",
    "\n",
    "Note that:\n",
    "* kernel shape:  (size_h, size_w, n_channel, n_kernel)\n",
    "* feature shape: (n_data, size_h, size_w, n_channel)\n",
    "\n",
    "\n",
    "### ConvLayer"
   ]
  },
  {
   "cell_type": "code",
   "execution_count": 2,
   "metadata": {
    "collapsed": false
   },
   "outputs": [],
   "source": [
    "layer_spec = [\n",
    "    {\"type\": \"conv\", \"shape\": (3,3,1,10)},\n",
    "    {\"type\": \"conv\", \"shape\": (3,3,10,10)},\n",
    "    {\"type\": \"pool\", \"shape\": (2,2)},\n",
    "    {\"type\": \"conv\", \"shape\": (3,3,10,20)},\n",
    "    {\"type\": \"pool\", \"shape\": (2,2)},\n",
    "    {\"type\": \"conv\", \"shape\": (3,3,20,20)},\n",
    "    {\"type\": \"flat\", \"shape\": 180},\n",
    "    {\"type\": \"full\", \"shape\": (180,40)},\n",
    "    {\"type\": \"logr\", \"shape\": (40,10)}\n",
    "]\n",
    "\n",
    "\n",
    "tf.reset_default_graph()\n",
    "x = tf.placeholder('float32', shape=[None,28,28,1], name='x')\n",
    "inp = x\n",
    "for l,layer in enumerate(layer_spec):\n",
    "    ltype = layer[\"type\"]\n",
    "    lshape = layer[\"shape\"]\n",
    "    \n",
    "    if ltype == \"conv\":\n",
    "        with tf.name_scope('conv{}'.format(l)):\n",
    "            k = tf.Variable(\n",
    "                tf.truncated_normal(shape=lshape, mean=0.0, stddev=0.05),\n",
    "                name=\"kernel\"\n",
    "            )\n",
    "            b = tf.Variable(tf.zeros((lshape[-1],)), name=\"bias\")\n",
    "            convout = tf.nn.conv2d(inp,k,strides=(1,1,1,1),\n",
    "                                   padding=\"VALID\")\n",
    "            p = tf.nn.bias_add(convout, b)\n",
    "            h = tf.nn.relu(p)\n",
    "            inp = h\n",
    "            \n",
    "    elif ltype == \"pool\":\n",
    "        with tf.name_scope('pool{}'.format(l)):\n",
    "            out = tf.nn.max_pool(inp, ksize=(1,)+lshape+(1,), \n",
    "                                strides=(1,)+lshape+(1,), \n",
    "                                padding=\"VALID\")\n",
    "            inp = out\n",
    "            \n",
    "    elif ltype == \"flat\":\n",
    "        with tf.name_scope('flat{}'.format(l)):\n",
    "            out = tf.reshape(inp, (-1,lshape))\n",
    "            inp = out\n",
    "    \n",
    "    elif ltype == \"full\":\n",
    "        with tf.name_scope('full{}'.format(l)):\n",
    "            w = tf.Variable(\n",
    "                tf.truncated_normal(\n",
    "                    shape=lshape,\n",
    "                    mean=0.0, stddev=0.05),\n",
    "                name='weight'\n",
    "            )\n",
    "            b = tf.Variable(tf.zeros(lshape[-1],), name=\"bias\")\n",
    "            p = tf.nn.bias_add(tf.matmul(inp, w), b)\n",
    "            h = tf.nn.relu(p)\n",
    "            inp = h\n",
    "    elif ltype == \"logr\":\n",
    "        with tf.name_scope('logr{}'.format(l)):\n",
    "            assert l == len(layer_spec)-1\n",
    "            w = tf.Variable(\n",
    "                tf.truncated_normal(\n",
    "                    shape=lshape,\n",
    "                    mean=0.0, stddev=0.05),\n",
    "                name='weight'\n",
    "            )\n",
    "            b = tf.Variable(tf.zeros(lshape[-1],), name=\"bias\")\n",
    "            p = tf.nn.bias_add(tf.matmul(inp, w), b)\n",
    "            final_out = p\n",
    "\n",
    "            \n",
    "            \n",
    "t = tf.placeholder('int32', name='t')\n",
    "xent = tf.nn.sparse_softmax_cross_entropy_with_logits(\n",
    "            final_out, t, name='xent')\n",
    "\n",
    "loss = tf.reduce_mean(xent, name='loss')\n",
    "train_step = tf.train.GradientDescentOptimizer(0.05).minimize(loss)\n",
    "tf.summary.scalar('loss', loss)\n",
    "\n",
    "pred = tf.argmax(final_out, axis=1)\n",
    "tf.summary.histogram('predicted_label', pred)\n",
    "\n",
    "correct = tf.nn.in_top_k(final_out, t, 1)\n",
    "acc = tf.reduce_mean(tf.cast(correct, tf.float32))\n",
    "tf.summary.scalar('acc', acc)\n",
    "\n",
    "merged_summary = tf.summary.merge_all()"
   ]
  },
  {
   "cell_type": "code",
   "execution_count": 3,
   "metadata": {
    "collapsed": false
   },
   "outputs": [],
   "source": [
    "try:\n",
    "    sess.close()\n",
    "except NameError:\n",
    "    pass\n",
    "config = tf.ConfigProto()\n",
    "config.gpu_options.allow_growth=True\n",
    "sess = tf.Session(config=config)\n",
    "\n",
    "# Load values on GPU\n",
    "init = tf.global_variables_initializer() \n",
    "sess.run(init) \n",
    "\n",
    "writer = tf.summary.FileWriter(\"convnet_train_log\", sess.graph)"
   ]
  },
  {
   "cell_type": "code",
   "execution_count": 4,
   "metadata": {
    "collapsed": false
   },
   "outputs": [
    {
     "name": "stdout",
     "output_type": "stream",
     "text": [
      "['train_t', 'train_x', 'valid_x', 'test_t', 'valid_t', 'test_x']\n",
      "(50000, 784)\n",
      "class:  5\n"
     ]
    },
    {
     "data": {
      "image/png": "[encoded data removed]",
      "text/plain": [
       "<matplotlib.figure.Figure at 0x7f0fe67f56d0>"
      ]
     },
     "metadata": {},
     "output_type": "display_data"
    }
   ],
   "source": [
    "mnist = np.load('data/mnist.npz')\n",
    "print mnist.keys()\n",
    "print mnist['train_x'].shape\n",
    "\n",
    "train_x = mnist['train_x']\n",
    "train_t = mnist['train_t']\n",
    "\n",
    "plt.imshow(train_x[0].reshape((28, 28)), \n",
    "               interpolation='nearest', cmap=plt.get_cmap('gray'))\n",
    "print \"class: \", train_t[0]"
   ]
  },
  {
   "cell_type": "code",
   "execution_count": 5,
   "metadata": {
    "collapsed": false
   },
   "outputs": [
    {
     "name": "stdout",
     "output_type": "stream",
     "text": [
      "Epoch: 0, Loss: 2.30148029327, Acc: 0.113360002637\n",
      "Epoch: 1, Loss: 2.30072116852, Acc: 0.113559998572\n",
      "Epoch: 2, Loss: 2.30010104179, Acc: 0.113559998572\n",
      "Epoch: 3, Loss: 2.29676127434, Acc: 0.113559998572\n",
      "Epoch: 4, Loss: 1.42573487759, Acc: 0.49113997817\n",
      "Epoch: 5, Loss: 0.379356026649, Acc: 0.879499852657\n",
      "Epoch: 6, Loss: 0.205403655767, Acc: 0.935379981995\n",
      "Epoch: 7, Loss: 0.143794372678, Acc: 0.95609998703\n",
      "Epoch: 8, Loss: 0.111783780158, Acc: 0.965579926968\n",
      "Epoch: 9, Loss: 0.0951648578048, Acc: 0.970779895782\n",
      "Epoch: 10, Loss: 0.0837306156754, Acc: 0.974099874496\n",
      "Epoch: 11, Loss: 0.074950106442, Acc: 0.976619958878\n",
      "Epoch: 12, Loss: 0.0677710101008, Acc: 0.978899896145\n",
      "Epoch: 13, Loss: 0.0616404861212, Acc: 0.980659902096\n",
      "Epoch: 14, Loss: 0.0570378787816, Acc: 0.982219934464\n",
      "Epoch: 15, Loss: 0.0526016056538, Acc: 0.983559846878\n",
      "Epoch: 16, Loss: 0.0487586669624, Acc: 0.985239923\n",
      "Epoch: 17, Loss: 0.0458095930517, Acc: 0.985979855061\n",
      "Epoch: 18, Loss: 0.0424145050347, Acc: 0.986679852009\n",
      "Epoch: 19, Loss: 0.0398338846862, Acc: 0.987459897995\n",
      "Epoch: 20, Loss: 0.03780021891, Acc: 0.987919867039\n",
      "Epoch: 21, Loss: 0.035679847002, Acc: 0.988739848137\n",
      "Epoch: 22, Loss: 0.0333504080772, Acc: 0.989619791508\n",
      "Epoch: 23, Loss: 0.0315569490194, Acc: 0.990259885788\n",
      "Epoch: 24, Loss: 0.0301868394017, Acc: 0.990419924259\n",
      "Epoch: 25, Loss: 0.0286281760782, Acc: 0.991199970245\n",
      "Epoch: 26, Loss: 0.0273746643215, Acc: 0.991259872913\n",
      "Epoch: 27, Loss: 0.0264973863959, Acc: 0.991619884968\n",
      "Epoch: 28, Loss: 0.0249150916934, Acc: 0.99253988266\n",
      "Epoch: 29, Loss: 0.0235515106469, Acc: 0.992379903793\n"
     ]
    },
    {
     "data": {
      "text/plain": [
       "<matplotlib.text.Text at 0x7f0fcc054f90>"
      ]
     },
     "execution_count": 5,
     "metadata": {},
     "output_type": "execute_result"
    },
    {
     "data": {
      "image/png": "[encoded data removed]",
      "text/plain": [
       "<matplotlib.figure.Figure at 0x7f0fcc065e10>"
      ]
     },
     "metadata": {},
     "output_type": "display_data"
    }
   ],
   "source": [
    "\n",
    "num_train = train_x.shape[0]\n",
    "mb_size = 200\n",
    "num_mbs = int(num_train / mb_size)\n",
    "\n",
    "loss_history = []\n",
    "for epoch in xrange(30):\n",
    "    loss_vals = []\n",
    "    acc_vals = []\n",
    "    for mb in xrange(num_mbs):\n",
    "        data_x = np.reshape(\n",
    "                train_x[mb*mb_size : (mb+1)*mb_size],\n",
    "                (-1,28,28,1) )\n",
    "        data_t = train_t[mb*mb_size : (mb+1)*mb_size] \n",
    "\n",
    "        _, loss_val, acc_val, summary = sess.run([train_step, loss, acc, merged_summary], \n",
    "                                            feed_dict={x: data_x, t: data_t})\n",
    "        loss_vals.append(loss_val)\n",
    "        acc_vals.append(acc_val)\n",
    "        writer.add_summary(summary, epoch*num_mbs+mb)\n",
    "    print \"Epoch: {}, Loss: {}, Acc: {}\".format(\n",
    "        epoch, np.mean(loss_vals), np.mean(acc_vals) )\n",
    "\n",
    "    loss_history.append(np.mean(loss_vals))\n",
    "\n",
    "plt.plot(loss_history)\n",
    "plt.xlabel('Epoch')\n",
    "plt.ylabel('Loss')"
   ]
  },
  {
   "cell_type": "code",
   "execution_count": 6,
   "metadata": {
    "collapsed": false
   },
   "outputs": [
    {
     "name": "stdout",
     "output_type": "stream",
     "text": [
      "test acc:  0.9793\n"
     ]
    }
   ],
   "source": [
    "test_x = mnist['test_x']\n",
    "test_t = mnist['test_t']\n",
    "test_mb_size = 200\n",
    "test_num_mbs = test_x.shape[0] / test_mb_size\n",
    "\n",
    "test_accs = []\n",
    "for mb in xrange(test_num_mbs):\n",
    "    test_acc = sess.run(acc, feed_dict={\n",
    "        x: np.reshape(\n",
    "            test_x[mb*test_mb_size : (mb+1)*test_mb_size],\n",
    "            (-1,28,28,1) ),\n",
    "        t: test_t[mb*test_mb_size : (mb+1)*test_mb_size]})\n",
    "    test_accs.append(test_acc)\n",
    "print \"test acc: \", np.mean(test_accs)"
   ]
  },
  {
   "cell_type": "code",
   "execution_count": 16,
   "metadata": {
    "collapsed": false
   },
   "outputs": [
    {
     "name": "stdout",
     "output_type": "stream",
     "text": [
      "Populating the interactive namespace from numpy and matplotlib\n"
     ]
    },
    {
     "data": {
      "image/png": "[encoded data removed]",
      "text/plain": [
       "<matplotlib.figure.Figure at 0x7f0fe6238350>"
      ]
     },
     "metadata": {},
     "output_type": "display_data"
    }
   ],
   "source": [
    "import matplotlib.pyplot as plt\n",
    "%pylab inline\n",
    "size_h = 3\n",
    "size_w = 3\n",
    "def viz_tile_images(imgs, n_col=10, normalize=True):\n",
    "    num = imgs.shape[0]\n",
    "    n_row = int((num-1)/n_col)+1\n",
    "    total_img = np.zeros((n_row*size_h, n_col*size_w))\n",
    "    for r in xrange(n_row):\n",
    "        for c in xrange(n_col):\n",
    "            idx = r*n_col+c\n",
    "            if idx < num:\n",
    "                img = np.reshape(imgs[idx], (size_w, size_h))\n",
    "                if normalize:\n",
    "                    img = (img - np.min(img))/(np.max(img) - np.min(img))\n",
    "                total_img[r*size_h:(r+1)*size_h, c*size_w:(c+1)*size_w] = img\n",
    "    \n",
    "    orig_fig_size = plt.rcParams['figure.figsize']\n",
    "    plt.rcParams['figure.figsize'] = (n_col,n_row)\n",
    "    plt.imshow(total_img, cmap=plt.get_cmap('gray'), interpolation='nearest')\n",
    "    plt.rcParams['figure.figsize'] = orig_fig_size\n",
    "    \n",
    "\n",
    "    \n",
    "w = sess.run([v for v in tf.global_variables() \n",
    "                  if v.name == \"conv0/kernel:0\"][0])\n",
    "viz_tile_images(np.reshape(w, (-1, 10)).T, normalize=False)"
   ]
  },
  {
   "cell_type": "code",
   "execution_count": null,
   "metadata": {
    "collapsed": true
   },
   "outputs": [],
   "source": []
  }
 ],
 "metadata": {
  "kernelspec": {
   "display_name": "Python 2",
   "language": "python",
   "name": "python2"
  },
  "language_info": {
   "codemirror_mode": {
    "name": "ipython",
    "version": 2
   },
   "file_extension": ".py",
   "mimetype": "text/x-python",
   "name": "python",
   "nbconvert_exporter": "python",
   "pygments_lexer": "ipython2",
   "version": "2.7.6"
  }
 },
 "nbformat": 4,
 "nbformat_minor": 2
}
